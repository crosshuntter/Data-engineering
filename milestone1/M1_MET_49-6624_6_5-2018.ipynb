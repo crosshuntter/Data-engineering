{
 "cells": [
  {
   "cell_type": "markdown",
   "metadata": {},
   "source": [
    "# Milestone 1 - EDA and Preprocessing data "
   ]
  },
  {
   "cell_type": "markdown",
   "metadata": {},
   "source": [
    "***Important note*** - This is merely a template. you are more than free to change how it looks or create one from scratch."
   ]
  },
  {
   "cell_type": "markdown",
   "metadata": {},
   "source": [
    "- Load dataset\n",
    "- Explore the dataset and ask atleast 5 questions to give you a better understanding of the data provided to you. \n",
    "- Visualise the answer to these 5 questions.\n",
    "- Cleaning the data\n",
    "    - Tidy up the column names, make sure there is no spaces\n",
    "    - Observe,comment on and handle inconsistent data.(i.e duplicates, irrelevant data,incorrect data,etc)\n",
    "    - Observe missing data and comment on why you believe it is missing(MCAR,MAR or MNAR).\n",
    "    - Handle missing data\n",
    "    - Observe and comment on outliers\n",
    "    - Handle outliers\n",
    "- With every change you are making to the data you need to comment on why you used this technique and how has it affected the data(by both showing the change in the data i.e change in number of rows/columns,change in distrubution, etc and commenting on it).\n",
    "- Data transformation and feature engineering\n",
    "    - Add 2 new columns named 'Week number' and 'Date range' and discretize the data into weeks according to the dates. \n",
    "        - Tip: Change the datatype of the date feature to datetime type instead of object.\n",
    "    - Encode any categorical feature(s) and comment on why you used this technique and how the data has changed.\n",
    "    - If exists , Identify feature(s) which need normalization and show your reasoning. Then choose a technique to normalize the feature(s) and comment on why you chose this technique.\n",
    "- Additional data extraction\n",
    "    - Add GPS coordinates for the cities/locations.\n",
    "    - For this task you can extract the GPS coordinates from an API or web scraping and integrate into your csv file as new features. \n",
    "    - Tip 1 - you can find the web scraping and data integration notebooks under 'additional resources'  on the CMS useful.\n",
    "    - Tip 2 - If you are going to use an API make sure you do not make request for each existing row but rather group by the cities and get their respective coordinates. Making a request for each row is too inefficient and expensive.\n",
    "    - Tip 3 - Rather than running the code for calling the API each time you load the notebook, the first time you call the API save the results in a csv file and then you could you check if a csv file exists for the GPS coordinates, if so, load directly and don't call APi. Same applies for web scraping.\n",
    "\n",
    "- Lookup table and load back into new csv file\n",
    "    - Create a lookup table\n",
    "    - Load the new dataset into a new csv file named `green_trip_data_{year}-{month}clean.csv`. replace year and month with the appropriate values.\n",
    "    - Load the lookup table to a csv file called `lookup_table_green_taxis.csv` \n",
    "- Bonus: Load the dataset as a parquet file instead of a csv file(Parquet file is a compressed file format)."
   ]
  },
  {
   "cell_type": "markdown",
   "metadata": {},
   "source": [
    "# 1 - extraction"
   ]
  },
  {
   "cell_type": "code",
   "execution_count": 375,
   "metadata": {},
   "outputs": [],
   "source": [
    "import pandas as pd\n",
    "from scipy import stats\n",
    "import numpy as np\n",
    "import matplotlib.pyplot as plt\n",
    "import seaborn as sns\n",
    "# For min_max scaling\n",
    "from sklearn.preprocessing import MinMaxScaler\n",
    "\n",
    "# For z-score scaling\n",
    "from sklearn.preprocessing import StandardScaler\n",
    "\n",
    "# For Label Encoding\n",
    "from sklearn import preprocessing"
   ]
  },
  {
   "cell_type": "code",
   "execution_count": 376,
   "metadata": {},
   "outputs": [],
   "source": [
    "green_taxi_df = pd.read_csv('../data/green_tripdata_2018-05.csv')\n",
    "green_taxi_df_clean = green_taxi_df.copy()"
   ]
  },
  {
   "cell_type": "code",
   "execution_count": 377,
   "metadata": {},
   "outputs": [
    {
     "name": "stdout",
     "output_type": "stream",
     "text": [
      "<class 'pandas.core.frame.DataFrame'>\n",
      "RangeIndex: 796565 entries, 0 to 796564\n",
      "Data columns (total 20 columns):\n",
      " #   Column                 Non-Null Count   Dtype  \n",
      "---  ------                 --------------   -----  \n",
      " 0   Vendor                 796565 non-null  object \n",
      " 1   lpep pickup datetime   796565 non-null  object \n",
      " 2   lpep dropoff datetime  796565 non-null  object \n",
      " 3   store and fwd flag     796565 non-null  object \n",
      " 4   Rate type              796565 non-null  object \n",
      " 5   PU Location            796565 non-null  object \n",
      " 6   DO Location            796565 non-null  object \n",
      " 7   passenger count        794848 non-null  float64\n",
      " 8   trip distance          796565 non-null  float64\n",
      " 9   fare amount            796565 non-null  float64\n",
      " 10  extra                  371974 non-null  float64\n",
      " 11  mta tax                796565 non-null  float64\n",
      " 12  tip amount             796565 non-null  float64\n",
      " 13  tolls amount           796565 non-null  float64\n",
      " 14  ehail fee              0 non-null       float64\n",
      " 15  improvement surcharge  796565 non-null  float64\n",
      " 16  total amount           796565 non-null  float64\n",
      " 17  payment type           774722 non-null  object \n",
      " 18  trip type              796565 non-null  object \n",
      " 19  congestion surcharge   0 non-null       float64\n",
      "dtypes: float64(11), object(9)\n",
      "memory usage: 121.5+ MB\n"
     ]
    }
   ],
   "source": [
    "green_taxi_df.info()"
   ]
  },
  {
   "cell_type": "markdown",
   "metadata": {},
   "source": [
    "# 3 - Cleaning Data"
   ]
  },
  {
   "cell_type": "markdown",
   "metadata": {},
   "source": [
    "## Tidying up column names"
   ]
  },
  {
   "cell_type": "code",
   "execution_count": 378,
   "metadata": {},
   "outputs": [],
   "source": [
    "def rename_columns(df):\n",
    "#     make all cols lower case\n",
    "    df.columns = df.columns.str.lower()\n",
    "\n",
    "    df.columns = [col.replace(' ', '_') for col in df.columns]\n",
    "    \n"
   ]
  },
  {
   "cell_type": "code",
   "execution_count": 379,
   "metadata": {},
   "outputs": [
    {
     "data": {
      "text/plain": [
       "Index(['vendor', 'lpep_pickup_datetime', 'lpep_dropoff_datetime',\n",
       "       'store_and_fwd_flag', 'rate_type', 'pu_location', 'do_location',\n",
       "       'passenger_count', 'trip_distance', 'fare_amount', 'extra', 'mta_tax',\n",
       "       'tip_amount', 'tolls_amount', 'ehail_fee', 'improvement_surcharge',\n",
       "       'total_amount', 'payment_type', 'trip_type', 'congestion_surcharge'],\n",
       "      dtype='object')"
      ]
     },
     "execution_count": 379,
     "metadata": {},
     "output_type": "execute_result"
    }
   ],
   "source": [
    "rename_columns(green_taxi_df_clean)\n",
    "green_taxi_df_clean.columns"
   ]
  },
  {
   "cell_type": "markdown",
   "metadata": {},
   "source": [
    "# Observe inconsistent data"
   ]
  },
  {
   "cell_type": "markdown",
   "metadata": {},
   "source": [
    "### duplicate data"
   ]
  },
  {
   "cell_type": "code",
   "execution_count": 380,
   "metadata": {},
   "outputs": [
    {
     "data": {
      "text/plain": [
       "7"
      ]
     },
     "execution_count": 380,
     "metadata": {},
     "output_type": "execute_result"
    }
   ],
   "source": [
    "green_taxi_df_clean.duplicated().sum()"
   ]
  },
  {
   "cell_type": "code",
   "execution_count": 381,
   "metadata": {},
   "outputs": [
    {
     "data": {
      "text/plain": [
       "1997"
      ]
     },
     "execution_count": 381,
     "metadata": {},
     "output_type": "execute_result"
    }
   ],
   "source": [
    "green_taxi_df_clean.duplicated(subset=['lpep_pickup_datetime', 'lpep_dropoff_datetime','pu_location', 'do_location','trip_distance']).sum()"
   ]
  },
  {
   "cell_type": "code",
   "execution_count": 382,
   "metadata": {},
   "outputs": [
    {
     "data": {
      "text/plain": [
       "7"
      ]
     },
     "execution_count": 382,
     "metadata": {},
     "output_type": "execute_result"
    }
   ],
   "source": [
    "green_taxi_df_clean.duplicated(subset=['lpep_pickup_datetime', 'lpep_dropoff_datetime','pu_location', 'do_location','trip_distance','fare_amount']).sum()"
   ]
  },
  {
   "cell_type": "code",
   "execution_count": 383,
   "metadata": {},
   "outputs": [],
   "source": [
    "green_taxi_df_clean = green_taxi_df_clean.drop_duplicates(subset=['lpep_pickup_datetime', 'lpep_dropoff_datetime','pu_location', 'do_location','trip_distance'], keep='last')"
   ]
  },
  {
   "cell_type": "code",
   "execution_count": 384,
   "metadata": {},
   "outputs": [
    {
     "data": {
      "text/plain": [
       "0"
      ]
     },
     "execution_count": 384,
     "metadata": {},
     "output_type": "execute_result"
    }
   ],
   "source": [
    "green_taxi_df_clean.duplicated().sum()"
   ]
  },
  {
   "cell_type": "markdown",
   "metadata": {},
   "source": [
    "### Findings and conclusions"
   ]
  },
  {
   "cell_type": "markdown",
   "metadata": {},
   "source": [
    "there were 7 duplicate rows in the dataset when checking for duplicates in the entire row.\n",
    "after using a subset that has the pick and dropoff time and location and distance(to make sure its the exact same trip) we found 1997 trips that were most likely double entries due to some change in one of the features.we investigated further and found that the only difference that was consistent between between the double entries (repeated in all entries) was the fare amount.there were other features that changes across the duplicates like improvement surcharge and other money related features but they're irrelevant as the fare amount covers all 1997 duplicates. we decided to keep the second entry as it's the updated value.\n",
    "final result is 1997 rows dropped,including identical rows and rows with the same pick up and drop off location and time and distance but different fare amount.\n"
   ]
  },
  {
   "cell_type": "markdown",
   "metadata": {},
   "source": [
    "### irrelevant or incorrect data"
   ]
  },
  {
   "cell_type": "code",
   "execution_count": 385,
   "metadata": {},
   "outputs": [
    {
     "data": {
      "text/plain": [
       "(15, 20)"
      ]
     },
     "execution_count": 385,
     "metadata": {},
     "output_type": "execute_result"
    }
   ],
   "source": [
    "green_taxi_df_clean[pd.to_datetime(green_taxi_df_clean['lpep_pickup_datetime']).dt.year != 2018].shape\n"
   ]
  },
  {
   "cell_type": "code",
   "execution_count": 386,
   "metadata": {},
   "outputs": [],
   "source": [
    "#keep only trips that happen in 2018\n",
    "green_taxi_df_clean['lpep_pickup_datetime'] = pd.to_datetime(green_taxi_df_clean['lpep_pickup_datetime'])\n",
    "green_taxi_df_clean['lpep_dropoff_datetime'] = pd.to_datetime(green_taxi_df_clean['lpep_dropoff_datetime'])\n",
    "\n",
    "green_taxi_df_clean = green_taxi_df_clean[(green_taxi_df_clean['lpep_pickup_datetime'].dt.year == 2018) & (green_taxi_df_clean['lpep_dropoff_datetime'].dt.year == 2018)]\n"
   ]
  },
  {
   "cell_type": "code",
   "execution_count": 387,
   "metadata": {},
   "outputs": [
    {
     "data": {
      "text/plain": [
       "(72, 20)"
      ]
     },
     "execution_count": 387,
     "metadata": {},
     "output_type": "execute_result"
    }
   ],
   "source": [
    "green_taxi_df_clean[green_taxi_df_clean['lpep_pickup_datetime'].dt.month != 5].shape"
   ]
  },
  {
   "cell_type": "code",
   "execution_count": 388,
   "metadata": {},
   "outputs": [],
   "source": [
    "#keep only trips that happen in may\n",
    "green_taxi_df_clean = green_taxi_df_clean[(green_taxi_df_clean['lpep_pickup_datetime'].dt.month == 5)]"
   ]
  },
  {
   "cell_type": "code",
   "execution_count": 389,
   "metadata": {},
   "outputs": [],
   "source": [
    "#what defines a trip? here we remove any \"trip\" that has no distance, no fare, or no time or negative time\n",
    "green_taxi_df_clean = green_taxi_df_clean[green_taxi_df_clean.fare_amount > 0]\n",
    "green_taxi_df_clean =green_taxi_df_clean[green_taxi_df_clean.trip_distance > 0]\n",
    "green_taxi_df_clean = green_taxi_df_clean[green_taxi_df_clean.lpep_pickup_datetime < green_taxi_df_clean.lpep_dropoff_datetime]\n"
   ]
  },
  {
   "cell_type": "code",
   "execution_count": 390,
   "metadata": {},
   "outputs": [
    {
     "data": {
      "text/plain": [
       "0"
      ]
     },
     "execution_count": 390,
     "metadata": {},
     "output_type": "execute_result"
    }
   ],
   "source": [
    "irrelevant = 0\n",
    "irrelevant+= green_taxi_df_clean[(green_taxi_df_clean.fare_amount <=0)].shape[0]\n",
    "irrelevant+= green_taxi_df_clean[(green_taxi_df_clean.trip_distance <=0)].shape[0]\n",
    "irrelevant+= green_taxi_df_clean[(green_taxi_df_clean.lpep_pickup_datetime >= green_taxi_df_clean.lpep_dropoff_datetime)].shape[0]\n",
    "irrelevant"
   ]
  },
  {
   "cell_type": "code",
   "execution_count": 391,
   "metadata": {},
   "outputs": [
    {
     "data": {
      "text/plain": [
       "count    783927.000000\n",
       "mean         13.848657\n",
       "std          11.817856\n",
       "min           0.010000\n",
       "25%           6.500000\n",
       "50%          10.000000\n",
       "75%          16.500000\n",
       "max        2126.690000\n",
       "Name: fare_amount, dtype: float64"
      ]
     },
     "execution_count": 391,
     "metadata": {},
     "output_type": "execute_result"
    }
   ],
   "source": [
    "green_taxi_df_clean[\"fare_amount\"].describe()"
   ]
  },
  {
   "cell_type": "code",
   "execution_count": 392,
   "metadata": {},
   "outputs": [
    {
     "name": "stdout",
     "output_type": "stream",
     "text": [
      "31.5 -8.5\n",
      "Min fare within range: 0.01\n",
      "max fare within range: 31.5\n"
     ]
    }
   ],
   "source": [
    "# calculate interquartile range\n",
    "Q1 = green_taxi_df_clean['fare_amount'].quantile(0.25)\n",
    "Q3 = green_taxi_df_clean['fare_amount'].quantile(0.75)\n",
    "IQR = Q3 - Q1\n",
    "\n",
    "# calculate left and right whiskers for boxplot\n",
    "right_whisker = Q3 + 1.5 * IQR\n",
    "left_whisker = Q1 - 1.5 * IQR\n",
    "\n",
    "# print left and right whisker\n",
    "print(right_whisker, left_whisker)\n",
    "print('Min fare within range:', green_taxi_df_clean['fare_amount'][green_taxi_df_clean['fare_amount'] >= left_whisker].min())\n",
    "print('max fare within range:', green_taxi_df_clean['fare_amount'][green_taxi_df_clean['fare_amount'] <= right_whisker].max())\n"
   ]
  },
  {
   "cell_type": "code",
   "execution_count": 393,
   "metadata": {},
   "outputs": [
    {
     "data": {
      "text/html": [
       "<div>\n",
       "<style scoped>\n",
       "    .dataframe tbody tr th:only-of-type {\n",
       "        vertical-align: middle;\n",
       "    }\n",
       "\n",
       "    .dataframe tbody tr th {\n",
       "        vertical-align: top;\n",
       "    }\n",
       "\n",
       "    .dataframe thead th {\n",
       "        text-align: right;\n",
       "    }\n",
       "</style>\n",
       "<table border=\"1\" class=\"dataframe\">\n",
       "  <thead>\n",
       "    <tr style=\"text-align: right;\">\n",
       "      <th></th>\n",
       "      <th>vendor</th>\n",
       "      <th>lpep_pickup_datetime</th>\n",
       "      <th>lpep_dropoff_datetime</th>\n",
       "      <th>store_and_fwd_flag</th>\n",
       "      <th>rate_type</th>\n",
       "      <th>pu_location</th>\n",
       "      <th>do_location</th>\n",
       "      <th>passenger_count</th>\n",
       "      <th>trip_distance</th>\n",
       "      <th>fare_amount</th>\n",
       "      <th>extra</th>\n",
       "      <th>mta_tax</th>\n",
       "      <th>tip_amount</th>\n",
       "      <th>tolls_amount</th>\n",
       "      <th>ehail_fee</th>\n",
       "      <th>improvement_surcharge</th>\n",
       "      <th>total_amount</th>\n",
       "      <th>payment_type</th>\n",
       "      <th>trip_type</th>\n",
       "      <th>congestion_surcharge</th>\n",
       "    </tr>\n",
       "  </thead>\n",
       "  <tbody>\n",
       "    <tr>\n",
       "      <th>2277</th>\n",
       "      <td>VeriFone Inc.</td>\n",
       "      <td>2018-05-01 06:32:39</td>\n",
       "      <td>2018-05-01 08:05:21</td>\n",
       "      <td>N</td>\n",
       "      <td>Standard rate</td>\n",
       "      <td>Bronx,Parkchester</td>\n",
       "      <td>Brooklyn,Bay Ridge</td>\n",
       "      <td>1.0</td>\n",
       "      <td>38.17</td>\n",
       "      <td>107.5</td>\n",
       "      <td>NaN</td>\n",
       "      <td>0.5</td>\n",
       "      <td>0.00</td>\n",
       "      <td>5.76</td>\n",
       "      <td>NaN</td>\n",
       "      <td>0.3</td>\n",
       "      <td>114.06</td>\n",
       "      <td>Cash</td>\n",
       "      <td>Street-hail</td>\n",
       "      <td>NaN</td>\n",
       "    </tr>\n",
       "    <tr>\n",
       "      <th>6670</th>\n",
       "      <td>VeriFone Inc.</td>\n",
       "      <td>2018-05-01 10:41:48</td>\n",
       "      <td>2018-05-01 15:58:48</td>\n",
       "      <td>N</td>\n",
       "      <td>Nassau or Westchester</td>\n",
       "      <td>Queens,Steinway</td>\n",
       "      <td>Queens,Jamaica Estates</td>\n",
       "      <td>1.0</td>\n",
       "      <td>53.66</td>\n",
       "      <td>429.0</td>\n",
       "      <td>NaN</td>\n",
       "      <td>0.5</td>\n",
       "      <td>0.00</td>\n",
       "      <td>0.00</td>\n",
       "      <td>NaN</td>\n",
       "      <td>0.3</td>\n",
       "      <td>429.80</td>\n",
       "      <td>Cash</td>\n",
       "      <td>Street-hail</td>\n",
       "      <td>NaN</td>\n",
       "    </tr>\n",
       "    <tr>\n",
       "      <th>9025</th>\n",
       "      <td>VeriFone Inc.</td>\n",
       "      <td>2018-05-01 11:02:50</td>\n",
       "      <td>2018-05-01 12:31:11</td>\n",
       "      <td>N</td>\n",
       "      <td>Standard rate</td>\n",
       "      <td>Brooklyn,Bay Ridge</td>\n",
       "      <td>Bronx,Parkchester</td>\n",
       "      <td>1.0</td>\n",
       "      <td>37.09</td>\n",
       "      <td>104.5</td>\n",
       "      <td>NaN</td>\n",
       "      <td>0.5</td>\n",
       "      <td>0.00</td>\n",
       "      <td>5.76</td>\n",
       "      <td>NaN</td>\n",
       "      <td>0.3</td>\n",
       "      <td>111.06</td>\n",
       "      <td>Credit card</td>\n",
       "      <td>Street-hail</td>\n",
       "      <td>NaN</td>\n",
       "    </tr>\n",
       "    <tr>\n",
       "      <th>13930</th>\n",
       "      <td>VeriFone Inc.</td>\n",
       "      <td>2018-05-01 16:31:43</td>\n",
       "      <td>2018-05-01 18:22:15</td>\n",
       "      <td>N</td>\n",
       "      <td>Standard rate</td>\n",
       "      <td>Manhattan,Morningside Heights</td>\n",
       "      <td>Unknown,Unknown</td>\n",
       "      <td>1.0</td>\n",
       "      <td>49.27</td>\n",
       "      <td>137.5</td>\n",
       "      <td>1.0</td>\n",
       "      <td>0.5</td>\n",
       "      <td>0.00</td>\n",
       "      <td>22.50</td>\n",
       "      <td>NaN</td>\n",
       "      <td>0.3</td>\n",
       "      <td>161.80</td>\n",
       "      <td>Cash</td>\n",
       "      <td>Street-hail</td>\n",
       "      <td>NaN</td>\n",
       "    </tr>\n",
       "    <tr>\n",
       "      <th>14788</th>\n",
       "      <td>VeriFone Inc.</td>\n",
       "      <td>2018-05-01 16:13:53</td>\n",
       "      <td>2018-05-01 18:13:16</td>\n",
       "      <td>N</td>\n",
       "      <td>Standard rate</td>\n",
       "      <td>Bronx,Eastchester</td>\n",
       "      <td>Brooklyn,Flatlands</td>\n",
       "      <td>1.0</td>\n",
       "      <td>29.57</td>\n",
       "      <td>100.5</td>\n",
       "      <td>1.0</td>\n",
       "      <td>0.5</td>\n",
       "      <td>0.00</td>\n",
       "      <td>5.76</td>\n",
       "      <td>NaN</td>\n",
       "      <td>0.3</td>\n",
       "      <td>108.06</td>\n",
       "      <td>Credit card</td>\n",
       "      <td>Street-hail</td>\n",
       "      <td>NaN</td>\n",
       "    </tr>\n",
       "    <tr>\n",
       "      <th>...</th>\n",
       "      <td>...</td>\n",
       "      <td>...</td>\n",
       "      <td>...</td>\n",
       "      <td>...</td>\n",
       "      <td>...</td>\n",
       "      <td>...</td>\n",
       "      <td>...</td>\n",
       "      <td>...</td>\n",
       "      <td>...</td>\n",
       "      <td>...</td>\n",
       "      <td>...</td>\n",
       "      <td>...</td>\n",
       "      <td>...</td>\n",
       "      <td>...</td>\n",
       "      <td>...</td>\n",
       "      <td>...</td>\n",
       "      <td>...</td>\n",
       "      <td>...</td>\n",
       "      <td>...</td>\n",
       "      <td>...</td>\n",
       "    </tr>\n",
       "    <tr>\n",
       "      <th>786068</th>\n",
       "      <td>VeriFone Inc.</td>\n",
       "      <td>2018-05-31 16:54:04</td>\n",
       "      <td>2018-05-31 18:05:48</td>\n",
       "      <td>N</td>\n",
       "      <td>Negotiated fare</td>\n",
       "      <td>Queens,Glen Oaks</td>\n",
       "      <td>Unknown,Unknown</td>\n",
       "      <td>2.0</td>\n",
       "      <td>26.07</td>\n",
       "      <td>250.0</td>\n",
       "      <td>NaN</td>\n",
       "      <td>0.0</td>\n",
       "      <td>10.88</td>\n",
       "      <td>0.00</td>\n",
       "      <td>NaN</td>\n",
       "      <td>0.0</td>\n",
       "      <td>260.88</td>\n",
       "      <td>Credit card</td>\n",
       "      <td>Dispatch</td>\n",
       "      <td>NaN</td>\n",
       "    </tr>\n",
       "    <tr>\n",
       "      <th>786485</th>\n",
       "      <td>VeriFone Inc.</td>\n",
       "      <td>2018-05-31 16:28:27</td>\n",
       "      <td>2018-05-31 18:31:18</td>\n",
       "      <td>N</td>\n",
       "      <td>Standard rate</td>\n",
       "      <td>Bronx,Co-Op City</td>\n",
       "      <td>Brooklyn,Bay Ridge</td>\n",
       "      <td>1.0</td>\n",
       "      <td>36.40</td>\n",
       "      <td>111.0</td>\n",
       "      <td>1.0</td>\n",
       "      <td>0.5</td>\n",
       "      <td>0.00</td>\n",
       "      <td>5.76</td>\n",
       "      <td>NaN</td>\n",
       "      <td>0.3</td>\n",
       "      <td>118.56</td>\n",
       "      <td>Credit card</td>\n",
       "      <td>Street-hail</td>\n",
       "      <td>NaN</td>\n",
       "    </tr>\n",
       "    <tr>\n",
       "      <th>794017</th>\n",
       "      <td>VeriFone Inc.</td>\n",
       "      <td>2018-05-31 21:32:38</td>\n",
       "      <td>2018-05-31 21:32:47</td>\n",
       "      <td>N</td>\n",
       "      <td>Negotiated fare</td>\n",
       "      <td>Queens,Flushing Meadows-Corona Park</td>\n",
       "      <td>Queens,Flushing Meadows-Corona Park</td>\n",
       "      <td>1.0</td>\n",
       "      <td>0.05</td>\n",
       "      <td>110.0</td>\n",
       "      <td>NaN</td>\n",
       "      <td>0.0</td>\n",
       "      <td>0.00</td>\n",
       "      <td>0.00</td>\n",
       "      <td>NaN</td>\n",
       "      <td>0.0</td>\n",
       "      <td>110.00</td>\n",
       "      <td>Credit card</td>\n",
       "      <td>Dispatch</td>\n",
       "      <td>NaN</td>\n",
       "    </tr>\n",
       "    <tr>\n",
       "      <th>794218</th>\n",
       "      <td>VeriFone Inc.</td>\n",
       "      <td>2018-05-31 21:42:34</td>\n",
       "      <td>2018-05-31 23:14:05</td>\n",
       "      <td>N</td>\n",
       "      <td>Standard rate</td>\n",
       "      <td>Bronx,Soundview/Castle Hill</td>\n",
       "      <td>Brooklyn,Starrett City</td>\n",
       "      <td>1.0</td>\n",
       "      <td>37.11</td>\n",
       "      <td>105.5</td>\n",
       "      <td>0.5</td>\n",
       "      <td>0.5</td>\n",
       "      <td>0.00</td>\n",
       "      <td>0.00</td>\n",
       "      <td>NaN</td>\n",
       "      <td>0.3</td>\n",
       "      <td>106.80</td>\n",
       "      <td>Credit card</td>\n",
       "      <td>Street-hail</td>\n",
       "      <td>NaN</td>\n",
       "    </tr>\n",
       "    <tr>\n",
       "      <th>796414</th>\n",
       "      <td>VeriFone Inc.</td>\n",
       "      <td>2018-05-31 23:53:42</td>\n",
       "      <td>2018-06-01 00:49:50</td>\n",
       "      <td>N</td>\n",
       "      <td>Negotiated fare</td>\n",
       "      <td>Queens,Flushing Meadows-Corona Park</td>\n",
       "      <td>Unknown,Unknown</td>\n",
       "      <td>2.0</td>\n",
       "      <td>43.81</td>\n",
       "      <td>160.0</td>\n",
       "      <td>NaN</td>\n",
       "      <td>0.0</td>\n",
       "      <td>15.00</td>\n",
       "      <td>5.76</td>\n",
       "      <td>NaN</td>\n",
       "      <td>0.0</td>\n",
       "      <td>180.76</td>\n",
       "      <td>Credit card</td>\n",
       "      <td>Dispatch</td>\n",
       "      <td>NaN</td>\n",
       "    </tr>\n",
       "  </tbody>\n",
       "</table>\n",
       "<p>292 rows × 20 columns</p>\n",
       "</div>"
      ],
      "text/plain": [
       "               vendor lpep_pickup_datetime lpep_dropoff_datetime  \\\n",
       "2277    VeriFone Inc.  2018-05-01 06:32:39   2018-05-01 08:05:21   \n",
       "6670    VeriFone Inc.  2018-05-01 10:41:48   2018-05-01 15:58:48   \n",
       "9025    VeriFone Inc.  2018-05-01 11:02:50   2018-05-01 12:31:11   \n",
       "13930   VeriFone Inc.  2018-05-01 16:31:43   2018-05-01 18:22:15   \n",
       "14788   VeriFone Inc.  2018-05-01 16:13:53   2018-05-01 18:13:16   \n",
       "...               ...                  ...                   ...   \n",
       "786068  VeriFone Inc.  2018-05-31 16:54:04   2018-05-31 18:05:48   \n",
       "786485  VeriFone Inc.  2018-05-31 16:28:27   2018-05-31 18:31:18   \n",
       "794017  VeriFone Inc.  2018-05-31 21:32:38   2018-05-31 21:32:47   \n",
       "794218  VeriFone Inc.  2018-05-31 21:42:34   2018-05-31 23:14:05   \n",
       "796414  VeriFone Inc.  2018-05-31 23:53:42   2018-06-01 00:49:50   \n",
       "\n",
       "       store_and_fwd_flag              rate_type  \\\n",
       "2277                    N          Standard rate   \n",
       "6670                    N  Nassau or Westchester   \n",
       "9025                    N          Standard rate   \n",
       "13930                   N          Standard rate   \n",
       "14788                   N          Standard rate   \n",
       "...                   ...                    ...   \n",
       "786068                  N        Negotiated fare   \n",
       "786485                  N          Standard rate   \n",
       "794017                  N        Negotiated fare   \n",
       "794218                  N          Standard rate   \n",
       "796414                  N        Negotiated fare   \n",
       "\n",
       "                                pu_location  \\\n",
       "2277                      Bronx,Parkchester   \n",
       "6670                        Queens,Steinway   \n",
       "9025                     Brooklyn,Bay Ridge   \n",
       "13930         Manhattan,Morningside Heights   \n",
       "14788                     Bronx,Eastchester   \n",
       "...                                     ...   \n",
       "786068                     Queens,Glen Oaks   \n",
       "786485                     Bronx,Co-Op City   \n",
       "794017  Queens,Flushing Meadows-Corona Park   \n",
       "794218          Bronx,Soundview/Castle Hill   \n",
       "796414  Queens,Flushing Meadows-Corona Park   \n",
       "\n",
       "                                do_location  passenger_count  trip_distance  \\\n",
       "2277                     Brooklyn,Bay Ridge              1.0          38.17   \n",
       "6670                 Queens,Jamaica Estates              1.0          53.66   \n",
       "9025                      Bronx,Parkchester              1.0          37.09   \n",
       "13930                       Unknown,Unknown              1.0          49.27   \n",
       "14788                    Brooklyn,Flatlands              1.0          29.57   \n",
       "...                                     ...              ...            ...   \n",
       "786068                      Unknown,Unknown              2.0          26.07   \n",
       "786485                   Brooklyn,Bay Ridge              1.0          36.40   \n",
       "794017  Queens,Flushing Meadows-Corona Park              1.0           0.05   \n",
       "794218               Brooklyn,Starrett City              1.0          37.11   \n",
       "796414                      Unknown,Unknown              2.0          43.81   \n",
       "\n",
       "        fare_amount  extra  mta_tax  tip_amount  tolls_amount  ehail_fee  \\\n",
       "2277          107.5    NaN      0.5        0.00          5.76        NaN   \n",
       "6670          429.0    NaN      0.5        0.00          0.00        NaN   \n",
       "9025          104.5    NaN      0.5        0.00          5.76        NaN   \n",
       "13930         137.5    1.0      0.5        0.00         22.50        NaN   \n",
       "14788         100.5    1.0      0.5        0.00          5.76        NaN   \n",
       "...             ...    ...      ...         ...           ...        ...   \n",
       "786068        250.0    NaN      0.0       10.88          0.00        NaN   \n",
       "786485        111.0    1.0      0.5        0.00          5.76        NaN   \n",
       "794017        110.0    NaN      0.0        0.00          0.00        NaN   \n",
       "794218        105.5    0.5      0.5        0.00          0.00        NaN   \n",
       "796414        160.0    NaN      0.0       15.00          5.76        NaN   \n",
       "\n",
       "        improvement_surcharge  total_amount payment_type    trip_type  \\\n",
       "2277                      0.3        114.06         Cash  Street-hail   \n",
       "6670                      0.3        429.80         Cash  Street-hail   \n",
       "9025                      0.3        111.06  Credit card  Street-hail   \n",
       "13930                     0.3        161.80         Cash  Street-hail   \n",
       "14788                     0.3        108.06  Credit card  Street-hail   \n",
       "...                       ...           ...          ...          ...   \n",
       "786068                    0.0        260.88  Credit card     Dispatch   \n",
       "786485                    0.3        118.56  Credit card  Street-hail   \n",
       "794017                    0.0        110.00  Credit card     Dispatch   \n",
       "794218                    0.3        106.80  Credit card  Street-hail   \n",
       "796414                    0.0        180.76  Credit card     Dispatch   \n",
       "\n",
       "        congestion_surcharge  \n",
       "2277                     NaN  \n",
       "6670                     NaN  \n",
       "9025                     NaN  \n",
       "13930                    NaN  \n",
       "14788                    NaN  \n",
       "...                      ...  \n",
       "786068                   NaN  \n",
       "786485                   NaN  \n",
       "794017                   NaN  \n",
       "794218                   NaN  \n",
       "796414                   NaN  \n",
       "\n",
       "[292 rows x 20 columns]"
      ]
     },
     "execution_count": 393,
     "metadata": {},
     "output_type": "execute_result"
    }
   ],
   "source": [
    "green_taxi_df_clean[ (green_taxi_df_clean['fare_amount'] > 100)]"
   ]
  },
  {
   "cell_type": "code",
   "execution_count": 394,
   "metadata": {},
   "outputs": [
    {
     "data": {
      "text/plain": [
       "passenger_count\n",
       "1.0      660896\n",
       "2.0       61631\n",
       "5.0       27043\n",
       "6.0       14389\n",
       "3.0       13506\n",
       "4.0        4808\n",
       "7.0           6\n",
       "222.0         5\n",
       "8.0           1\n",
       "9.0           1\n",
       "Name: count, dtype: int64"
      ]
     },
     "execution_count": 394,
     "metadata": {},
     "output_type": "execute_result"
    }
   ],
   "source": [
    "green_taxi_df_clean[\"passenger_count\"].value_counts()"
   ]
  },
  {
   "cell_type": "code",
   "execution_count": 395,
   "metadata": {},
   "outputs": [
    {
     "data": {
      "text/html": [
       "<div>\n",
       "<style scoped>\n",
       "    .dataframe tbody tr th:only-of-type {\n",
       "        vertical-align: middle;\n",
       "    }\n",
       "\n",
       "    .dataframe tbody tr th {\n",
       "        vertical-align: top;\n",
       "    }\n",
       "\n",
       "    .dataframe thead th {\n",
       "        text-align: right;\n",
       "    }\n",
       "</style>\n",
       "<table border=\"1\" class=\"dataframe\">\n",
       "  <thead>\n",
       "    <tr style=\"text-align: right;\">\n",
       "      <th></th>\n",
       "      <th>vendor</th>\n",
       "      <th>lpep_pickup_datetime</th>\n",
       "      <th>lpep_dropoff_datetime</th>\n",
       "      <th>store_and_fwd_flag</th>\n",
       "      <th>rate_type</th>\n",
       "      <th>pu_location</th>\n",
       "      <th>do_location</th>\n",
       "      <th>passenger_count</th>\n",
       "      <th>trip_distance</th>\n",
       "      <th>fare_amount</th>\n",
       "      <th>extra</th>\n",
       "      <th>mta_tax</th>\n",
       "      <th>tip_amount</th>\n",
       "      <th>tolls_amount</th>\n",
       "      <th>ehail_fee</th>\n",
       "      <th>improvement_surcharge</th>\n",
       "      <th>total_amount</th>\n",
       "      <th>payment_type</th>\n",
       "      <th>trip_type</th>\n",
       "      <th>congestion_surcharge</th>\n",
       "    </tr>\n",
       "  </thead>\n",
       "  <tbody>\n",
       "    <tr>\n",
       "      <th>884</th>\n",
       "      <td>VeriFone Inc.</td>\n",
       "      <td>2018-05-01 03:10:58</td>\n",
       "      <td>2018-05-01 03:13:12</td>\n",
       "      <td>N</td>\n",
       "      <td>Standard rate</td>\n",
       "      <td>Manhattan,Hamilton Heights</td>\n",
       "      <td>Manhattan,Manhattanville</td>\n",
       "      <td>222.0</td>\n",
       "      <td>0.80</td>\n",
       "      <td>4.5</td>\n",
       "      <td>0.5</td>\n",
       "      <td>0.5</td>\n",
       "      <td>0.00</td>\n",
       "      <td>0.00</td>\n",
       "      <td>NaN</td>\n",
       "      <td>0.3</td>\n",
       "      <td>5.80</td>\n",
       "      <td>Cash</td>\n",
       "      <td>Street-hail</td>\n",
       "      <td>NaN</td>\n",
       "    </tr>\n",
       "    <tr>\n",
       "      <th>3085</th>\n",
       "      <td>VeriFone Inc.</td>\n",
       "      <td>2018-05-01 08:11:13</td>\n",
       "      <td>2018-05-01 08:24:44</td>\n",
       "      <td>N</td>\n",
       "      <td>Standard rate</td>\n",
       "      <td>Manhattan,East Harlem North</td>\n",
       "      <td>Manhattan,Manhattanville</td>\n",
       "      <td>222.0</td>\n",
       "      <td>1.59</td>\n",
       "      <td>10.0</td>\n",
       "      <td>NaN</td>\n",
       "      <td>0.5</td>\n",
       "      <td>2.16</td>\n",
       "      <td>0.00</td>\n",
       "      <td>NaN</td>\n",
       "      <td>0.3</td>\n",
       "      <td>12.96</td>\n",
       "      <td>Credit card</td>\n",
       "      <td>Street-hail</td>\n",
       "      <td>NaN</td>\n",
       "    </tr>\n",
       "    <tr>\n",
       "      <th>3625</th>\n",
       "      <td>VeriFone Inc.</td>\n",
       "      <td>2018-05-01 08:33:52</td>\n",
       "      <td>2018-05-01 09:14:30</td>\n",
       "      <td>N</td>\n",
       "      <td>Standard rate</td>\n",
       "      <td>Queens,Elmhurst</td>\n",
       "      <td>Manhattan,Manhattanville</td>\n",
       "      <td>222.0</td>\n",
       "      <td>9.56</td>\n",
       "      <td>32.5</td>\n",
       "      <td>NaN</td>\n",
       "      <td>0.5</td>\n",
       "      <td>0.00</td>\n",
       "      <td>5.76</td>\n",
       "      <td>NaN</td>\n",
       "      <td>0.3</td>\n",
       "      <td>39.06</td>\n",
       "      <td>Credit card</td>\n",
       "      <td>Street-hail</td>\n",
       "      <td>NaN</td>\n",
       "    </tr>\n",
       "    <tr>\n",
       "      <th>5760</th>\n",
       "      <td>VeriFone Inc.</td>\n",
       "      <td>2018-05-01 10:59:35</td>\n",
       "      <td>2018-05-01 11:04:57</td>\n",
       "      <td>N</td>\n",
       "      <td>Standard rate</td>\n",
       "      <td>Manhattan,Central Harlem North</td>\n",
       "      <td>Manhattan,Manhattanville</td>\n",
       "      <td>222.0</td>\n",
       "      <td>1.12</td>\n",
       "      <td>6.0</td>\n",
       "      <td>NaN</td>\n",
       "      <td>0.5</td>\n",
       "      <td>1.36</td>\n",
       "      <td>0.00</td>\n",
       "      <td>NaN</td>\n",
       "      <td>0.3</td>\n",
       "      <td>8.16</td>\n",
       "      <td>Credit card</td>\n",
       "      <td>Street-hail</td>\n",
       "      <td>NaN</td>\n",
       "    </tr>\n",
       "    <tr>\n",
       "      <th>7073</th>\n",
       "      <td>VeriFone Inc.</td>\n",
       "      <td>2018-05-01 10:02:15</td>\n",
       "      <td>2018-05-01 10:08:33</td>\n",
       "      <td>N</td>\n",
       "      <td>Standard rate</td>\n",
       "      <td>Manhattan,Central Harlem</td>\n",
       "      <td>Manhattan,Manhattanville</td>\n",
       "      <td>222.0</td>\n",
       "      <td>1.11</td>\n",
       "      <td>6.5</td>\n",
       "      <td>NaN</td>\n",
       "      <td>0.5</td>\n",
       "      <td>0.00</td>\n",
       "      <td>0.00</td>\n",
       "      <td>NaN</td>\n",
       "      <td>0.3</td>\n",
       "      <td>7.30</td>\n",
       "      <td>Credit card</td>\n",
       "      <td>Street-hail</td>\n",
       "      <td>NaN</td>\n",
       "    </tr>\n",
       "    <tr>\n",
       "      <th>42418</th>\n",
       "      <td>VeriFone Inc.</td>\n",
       "      <td>2018-05-02 18:41:51</td>\n",
       "      <td>2018-05-02 18:45:40</td>\n",
       "      <td>N</td>\n",
       "      <td>Negotiated fare</td>\n",
       "      <td>Queens,Queensbridge/Ravenswood</td>\n",
       "      <td>Queens,Queensbridge/Ravenswood</td>\n",
       "      <td>8.0</td>\n",
       "      <td>0.01</td>\n",
       "      <td>8.0</td>\n",
       "      <td>NaN</td>\n",
       "      <td>0.0</td>\n",
       "      <td>0.00</td>\n",
       "      <td>0.00</td>\n",
       "      <td>NaN</td>\n",
       "      <td>0.0</td>\n",
       "      <td>8.00</td>\n",
       "      <td>Cash</td>\n",
       "      <td>Dispatch</td>\n",
       "      <td>NaN</td>\n",
       "    </tr>\n",
       "    <tr>\n",
       "      <th>272093</th>\n",
       "      <td>VeriFone Inc.</td>\n",
       "      <td>2018-05-11 09:13:34</td>\n",
       "      <td>2018-05-11 09:46:59</td>\n",
       "      <td>N</td>\n",
       "      <td>Negotiated fare</td>\n",
       "      <td>Manhattan,Inwood</td>\n",
       "      <td>Manhattan,Meatpacking/West Village West</td>\n",
       "      <td>9.0</td>\n",
       "      <td>11.21</td>\n",
       "      <td>9.5</td>\n",
       "      <td>NaN</td>\n",
       "      <td>0.0</td>\n",
       "      <td>0.00</td>\n",
       "      <td>0.00</td>\n",
       "      <td>NaN</td>\n",
       "      <td>0.0</td>\n",
       "      <td>9.50</td>\n",
       "      <td>Cash</td>\n",
       "      <td>Dispatch</td>\n",
       "      <td>NaN</td>\n",
       "    </tr>\n",
       "    <tr>\n",
       "      <th>281123</th>\n",
       "      <td>VeriFone Inc.</td>\n",
       "      <td>2018-05-11 15:58:17</td>\n",
       "      <td>2018-05-11 15:58:45</td>\n",
       "      <td>N</td>\n",
       "      <td>Negotiated fare</td>\n",
       "      <td>Manhattan,Washington Heights South</td>\n",
       "      <td>Manhattan,Washington Heights North</td>\n",
       "      <td>7.0</td>\n",
       "      <td>0.20</td>\n",
       "      <td>7.0</td>\n",
       "      <td>NaN</td>\n",
       "      <td>0.0</td>\n",
       "      <td>1.40</td>\n",
       "      <td>0.00</td>\n",
       "      <td>NaN</td>\n",
       "      <td>0.0</td>\n",
       "      <td>8.40</td>\n",
       "      <td>Credit card</td>\n",
       "      <td>Dispatch</td>\n",
       "      <td>NaN</td>\n",
       "    </tr>\n",
       "    <tr>\n",
       "      <th>412676</th>\n",
       "      <td>VeriFone Inc.</td>\n",
       "      <td>2018-05-16 14:47:07</td>\n",
       "      <td>2018-05-16 15:21:45</td>\n",
       "      <td>N</td>\n",
       "      <td>Negotiated fare</td>\n",
       "      <td>Bronx,West Concourse</td>\n",
       "      <td>Unknown,Unknown</td>\n",
       "      <td>7.0</td>\n",
       "      <td>5.65</td>\n",
       "      <td>70.0</td>\n",
       "      <td>NaN</td>\n",
       "      <td>0.0</td>\n",
       "      <td>0.00</td>\n",
       "      <td>0.00</td>\n",
       "      <td>NaN</td>\n",
       "      <td>0.0</td>\n",
       "      <td>70.00</td>\n",
       "      <td>Cash</td>\n",
       "      <td>Dispatch</td>\n",
       "      <td>NaN</td>\n",
       "    </tr>\n",
       "    <tr>\n",
       "      <th>512554</th>\n",
       "      <td>VeriFone Inc.</td>\n",
       "      <td>2018-05-20 03:54:10</td>\n",
       "      <td>2018-05-20 03:54:28</td>\n",
       "      <td>N</td>\n",
       "      <td>Negotiated fare</td>\n",
       "      <td>Queens,Woodside</td>\n",
       "      <td>Queens,Woodside</td>\n",
       "      <td>7.0</td>\n",
       "      <td>0.19</td>\n",
       "      <td>7.0</td>\n",
       "      <td>NaN</td>\n",
       "      <td>0.0</td>\n",
       "      <td>2.10</td>\n",
       "      <td>0.00</td>\n",
       "      <td>NaN</td>\n",
       "      <td>0.0</td>\n",
       "      <td>9.10</td>\n",
       "      <td>Credit card</td>\n",
       "      <td>Dispatch</td>\n",
       "      <td>NaN</td>\n",
       "    </tr>\n",
       "    <tr>\n",
       "      <th>562350</th>\n",
       "      <td>VeriFone Inc.</td>\n",
       "      <td>2018-05-22 10:26:26</td>\n",
       "      <td>2018-05-22 10:32:01</td>\n",
       "      <td>N</td>\n",
       "      <td>Negotiated fare</td>\n",
       "      <td>Manhattan,Washington Heights South</td>\n",
       "      <td>Manhattan,Washington Heights South</td>\n",
       "      <td>7.0</td>\n",
       "      <td>0.74</td>\n",
       "      <td>7.0</td>\n",
       "      <td>NaN</td>\n",
       "      <td>0.0</td>\n",
       "      <td>0.00</td>\n",
       "      <td>0.00</td>\n",
       "      <td>NaN</td>\n",
       "      <td>0.0</td>\n",
       "      <td>7.00</td>\n",
       "      <td>Cash</td>\n",
       "      <td>Dispatch</td>\n",
       "      <td>NaN</td>\n",
       "    </tr>\n",
       "    <tr>\n",
       "      <th>566274</th>\n",
       "      <td>VeriFone Inc.</td>\n",
       "      <td>2018-05-22 13:52:12</td>\n",
       "      <td>2018-05-22 14:03:30</td>\n",
       "      <td>N</td>\n",
       "      <td>Negotiated fare</td>\n",
       "      <td>Manhattan,Inwood</td>\n",
       "      <td>Bronx,Highbridge</td>\n",
       "      <td>7.0</td>\n",
       "      <td>2.34</td>\n",
       "      <td>7.5</td>\n",
       "      <td>NaN</td>\n",
       "      <td>0.0</td>\n",
       "      <td>0.00</td>\n",
       "      <td>0.00</td>\n",
       "      <td>NaN</td>\n",
       "      <td>0.0</td>\n",
       "      <td>7.50</td>\n",
       "      <td>Cash</td>\n",
       "      <td>Dispatch</td>\n",
       "      <td>NaN</td>\n",
       "    </tr>\n",
       "    <tr>\n",
       "      <th>733955</th>\n",
       "      <td>VeriFone Inc.</td>\n",
       "      <td>2018-05-29 13:33:21</td>\n",
       "      <td>2018-05-29 13:45:52</td>\n",
       "      <td>N</td>\n",
       "      <td>Negotiated fare</td>\n",
       "      <td>Bronx,Allerton/Pelham Gardens</td>\n",
       "      <td>Bronx,Pelham Parkway</td>\n",
       "      <td>7.0</td>\n",
       "      <td>0.95</td>\n",
       "      <td>7.0</td>\n",
       "      <td>NaN</td>\n",
       "      <td>0.0</td>\n",
       "      <td>0.00</td>\n",
       "      <td>0.00</td>\n",
       "      <td>NaN</td>\n",
       "      <td>0.0</td>\n",
       "      <td>7.00</td>\n",
       "      <td>Cash</td>\n",
       "      <td>Dispatch</td>\n",
       "      <td>NaN</td>\n",
       "    </tr>\n",
       "  </tbody>\n",
       "</table>\n",
       "</div>"
      ],
      "text/plain": [
       "               vendor lpep_pickup_datetime lpep_dropoff_datetime  \\\n",
       "884     VeriFone Inc.  2018-05-01 03:10:58   2018-05-01 03:13:12   \n",
       "3085    VeriFone Inc.  2018-05-01 08:11:13   2018-05-01 08:24:44   \n",
       "3625    VeriFone Inc.  2018-05-01 08:33:52   2018-05-01 09:14:30   \n",
       "5760    VeriFone Inc.  2018-05-01 10:59:35   2018-05-01 11:04:57   \n",
       "7073    VeriFone Inc.  2018-05-01 10:02:15   2018-05-01 10:08:33   \n",
       "42418   VeriFone Inc.  2018-05-02 18:41:51   2018-05-02 18:45:40   \n",
       "272093  VeriFone Inc.  2018-05-11 09:13:34   2018-05-11 09:46:59   \n",
       "281123  VeriFone Inc.  2018-05-11 15:58:17   2018-05-11 15:58:45   \n",
       "412676  VeriFone Inc.  2018-05-16 14:47:07   2018-05-16 15:21:45   \n",
       "512554  VeriFone Inc.  2018-05-20 03:54:10   2018-05-20 03:54:28   \n",
       "562350  VeriFone Inc.  2018-05-22 10:26:26   2018-05-22 10:32:01   \n",
       "566274  VeriFone Inc.  2018-05-22 13:52:12   2018-05-22 14:03:30   \n",
       "733955  VeriFone Inc.  2018-05-29 13:33:21   2018-05-29 13:45:52   \n",
       "\n",
       "       store_and_fwd_flag        rate_type  \\\n",
       "884                     N    Standard rate   \n",
       "3085                    N    Standard rate   \n",
       "3625                    N    Standard rate   \n",
       "5760                    N    Standard rate   \n",
       "7073                    N    Standard rate   \n",
       "42418                   N  Negotiated fare   \n",
       "272093                  N  Negotiated fare   \n",
       "281123                  N  Negotiated fare   \n",
       "412676                  N  Negotiated fare   \n",
       "512554                  N  Negotiated fare   \n",
       "562350                  N  Negotiated fare   \n",
       "566274                  N  Negotiated fare   \n",
       "733955                  N  Negotiated fare   \n",
       "\n",
       "                               pu_location  \\\n",
       "884             Manhattan,Hamilton Heights   \n",
       "3085           Manhattan,East Harlem North   \n",
       "3625                       Queens,Elmhurst   \n",
       "5760        Manhattan,Central Harlem North   \n",
       "7073              Manhattan,Central Harlem   \n",
       "42418       Queens,Queensbridge/Ravenswood   \n",
       "272093                    Manhattan,Inwood   \n",
       "281123  Manhattan,Washington Heights South   \n",
       "412676                Bronx,West Concourse   \n",
       "512554                     Queens,Woodside   \n",
       "562350  Manhattan,Washington Heights South   \n",
       "566274                    Manhattan,Inwood   \n",
       "733955       Bronx,Allerton/Pelham Gardens   \n",
       "\n",
       "                                    do_location  passenger_count  \\\n",
       "884                    Manhattan,Manhattanville            222.0   \n",
       "3085                   Manhattan,Manhattanville            222.0   \n",
       "3625                   Manhattan,Manhattanville            222.0   \n",
       "5760                   Manhattan,Manhattanville            222.0   \n",
       "7073                   Manhattan,Manhattanville            222.0   \n",
       "42418            Queens,Queensbridge/Ravenswood              8.0   \n",
       "272093  Manhattan,Meatpacking/West Village West              9.0   \n",
       "281123       Manhattan,Washington Heights North              7.0   \n",
       "412676                          Unknown,Unknown              7.0   \n",
       "512554                          Queens,Woodside              7.0   \n",
       "562350       Manhattan,Washington Heights South              7.0   \n",
       "566274                         Bronx,Highbridge              7.0   \n",
       "733955                     Bronx,Pelham Parkway              7.0   \n",
       "\n",
       "        trip_distance  fare_amount  extra  mta_tax  tip_amount  tolls_amount  \\\n",
       "884              0.80          4.5    0.5      0.5        0.00          0.00   \n",
       "3085             1.59         10.0    NaN      0.5        2.16          0.00   \n",
       "3625             9.56         32.5    NaN      0.5        0.00          5.76   \n",
       "5760             1.12          6.0    NaN      0.5        1.36          0.00   \n",
       "7073             1.11          6.5    NaN      0.5        0.00          0.00   \n",
       "42418            0.01          8.0    NaN      0.0        0.00          0.00   \n",
       "272093          11.21          9.5    NaN      0.0        0.00          0.00   \n",
       "281123           0.20          7.0    NaN      0.0        1.40          0.00   \n",
       "412676           5.65         70.0    NaN      0.0        0.00          0.00   \n",
       "512554           0.19          7.0    NaN      0.0        2.10          0.00   \n",
       "562350           0.74          7.0    NaN      0.0        0.00          0.00   \n",
       "566274           2.34          7.5    NaN      0.0        0.00          0.00   \n",
       "733955           0.95          7.0    NaN      0.0        0.00          0.00   \n",
       "\n",
       "        ehail_fee  improvement_surcharge  total_amount payment_type  \\\n",
       "884           NaN                    0.3          5.80         Cash   \n",
       "3085          NaN                    0.3         12.96  Credit card   \n",
       "3625          NaN                    0.3         39.06  Credit card   \n",
       "5760          NaN                    0.3          8.16  Credit card   \n",
       "7073          NaN                    0.3          7.30  Credit card   \n",
       "42418         NaN                    0.0          8.00         Cash   \n",
       "272093        NaN                    0.0          9.50         Cash   \n",
       "281123        NaN                    0.0          8.40  Credit card   \n",
       "412676        NaN                    0.0         70.00         Cash   \n",
       "512554        NaN                    0.0          9.10  Credit card   \n",
       "562350        NaN                    0.0          7.00         Cash   \n",
       "566274        NaN                    0.0          7.50         Cash   \n",
       "733955        NaN                    0.0          7.00         Cash   \n",
       "\n",
       "          trip_type  congestion_surcharge  \n",
       "884     Street-hail                   NaN  \n",
       "3085    Street-hail                   NaN  \n",
       "3625    Street-hail                   NaN  \n",
       "5760    Street-hail                   NaN  \n",
       "7073    Street-hail                   NaN  \n",
       "42418      Dispatch                   NaN  \n",
       "272093     Dispatch                   NaN  \n",
       "281123     Dispatch                   NaN  \n",
       "412676     Dispatch                   NaN  \n",
       "512554     Dispatch                   NaN  \n",
       "562350     Dispatch                   NaN  \n",
       "566274     Dispatch                   NaN  \n",
       "733955     Dispatch                   NaN  "
      ]
     },
     "execution_count": 395,
     "metadata": {},
     "output_type": "execute_result"
    }
   ],
   "source": [
    "green_taxi_df_clean[green_taxi_df_clean.passenger_count > 6]"
   ]
  },
  {
   "cell_type": "code",
   "execution_count": 396,
   "metadata": {},
   "outputs": [],
   "source": [
    "green_taxi_df_clean = green_taxi_df_clean[green_taxi_df_clean.passenger_count <= 10]"
   ]
  },
  {
   "cell_type": "markdown",
   "metadata": {},
   "source": [
    "### Findings and conclusions\n",
    "\n",
    "some trips happened out of 2018 and some out of may,2018(we're only interested in may 2018).we dropped those rows.(irrelevant data)\n",
    "\n",
    "some trips had negative or zero distance or fare amount.we dropped those rows.(irrelevant data or incorrect data respectively)\n",
    "\n",
    "some trips had negative or 0 time difference between pick up and drop off.we dropped those rows.(irrelevant data or incorrect data respectively)\n",
    "\n",
    "a very small number of trips had 222 passengers which is impossible.we dropped those rows.(incorrect data)\n",
    "\n"
   ]
  },
  {
   "cell_type": "markdown",
   "metadata": {},
   "source": [
    "## Observing and handling Missing Data"
   ]
  },
  {
   "cell_type": "markdown",
   "metadata": {},
   "source": [
    "### observing and handling placeholders"
   ]
  },
  {
   "cell_type": "code",
   "execution_count": 397,
   "metadata": {},
   "outputs": [
    {
     "name": "stdout",
     "output_type": "stream",
     "text": [
      "<class 'pandas.core.frame.DataFrame'>\n",
      "Index: 782281 entries, 0 to 796564\n",
      "Data columns (total 20 columns):\n",
      " #   Column                 Non-Null Count   Dtype         \n",
      "---  ------                 --------------   -----         \n",
      " 0   vendor                 782281 non-null  object        \n",
      " 1   lpep_pickup_datetime   782281 non-null  datetime64[ns]\n",
      " 2   lpep_dropoff_datetime  782281 non-null  datetime64[ns]\n",
      " 3   store_and_fwd_flag     782281 non-null  object        \n",
      " 4   rate_type              782281 non-null  object        \n",
      " 5   pu_location            782281 non-null  object        \n",
      " 6   do_location            782281 non-null  object        \n",
      " 7   passenger_count        782281 non-null  float64       \n",
      " 8   trip_distance          782281 non-null  float64       \n",
      " 9   fare_amount            782281 non-null  float64       \n",
      " 10  extra                  367656 non-null  float64       \n",
      " 11  mta_tax                782281 non-null  float64       \n",
      " 12  tip_amount             782281 non-null  float64       \n",
      " 13  tolls_amount           782281 non-null  float64       \n",
      " 14  ehail_fee              0 non-null       float64       \n",
      " 15  improvement_surcharge  782281 non-null  float64       \n",
      " 16  total_amount           782281 non-null  float64       \n",
      " 17  payment_type           761085 non-null  object        \n",
      " 18  trip_type              782281 non-null  object        \n",
      " 19  congestion_surcharge   0 non-null       float64       \n",
      "dtypes: datetime64[ns](2), float64(11), object(7)\n",
      "memory usage: 125.3+ MB\n"
     ]
    }
   ],
   "source": [
    "green_taxi_df_clean.info()"
   ]
  },
  {
   "cell_type": "markdown",
   "metadata": {},
   "source": [
    "at first glance we see that most columns either have no missing values or have a very small percentage of missing values except for the extra column and a a slightly bigger percentage than the rest in payment_type column.\n",
    "\n",
    "we will invistigate this further and also check if each column maybe has placeholders for missing values instead of nulls but first we will drop the 2 empty columns ehail_fee and congestion_surcharge as they have no values at all.\n",
    "\n",
    "note that :- the columns after congestion surcharge were all added by me hence they have no missing values."
   ]
  },
  {
   "cell_type": "code",
   "execution_count": 398,
   "metadata": {},
   "outputs": [],
   "source": [
    "green_taxi_df_clean = green_taxi_df_clean.drop(['ehail_fee', 'congestion_surcharge'], axis=1)\n"
   ]
  },
  {
   "cell_type": "code",
   "execution_count": 399,
   "metadata": {},
   "outputs": [
    {
     "data": {
      "text/plain": [
       "vendor\n",
       "VeriFone Inc.                        653644\n",
       "Creative Mobile Technologies, LLC    128637\n",
       "Name: count, dtype: int64"
      ]
     },
     "execution_count": 399,
     "metadata": {},
     "output_type": "execute_result"
    }
   ],
   "source": [
    "green_taxi_df_clean[\"vendor\"].value_counts()"
   ]
  },
  {
   "cell_type": "code",
   "execution_count": 400,
   "metadata": {},
   "outputs": [
    {
     "data": {
      "text/plain": [
       "store_and_fwd_flag\n",
       "N    781194\n",
       "Y      1087\n",
       "Name: count, dtype: int64"
      ]
     },
     "execution_count": 400,
     "metadata": {},
     "output_type": "execute_result"
    }
   ],
   "source": [
    "green_taxi_df_clean[\"store_and_fwd_flag\"].value_counts()"
   ]
  },
  {
   "cell_type": "code",
   "execution_count": 401,
   "metadata": {},
   "outputs": [
    {
     "data": {
      "text/plain": [
       "rate_type\n",
       "Standard rate            772059\n",
       "Negotiated fare            7873\n",
       "JFK                        1418\n",
       "Nassau or Westchester       604\n",
       "Newark                      319\n",
       "Group ride                    8\n",
       "Name: count, dtype: int64"
      ]
     },
     "execution_count": 401,
     "metadata": {},
     "output_type": "execute_result"
    }
   ],
   "source": [
    "green_taxi_df_clean[\"rate_type\"].value_counts()"
   ]
  },
  {
   "cell_type": "markdown",
   "metadata": {},
   "source": [
    "now we will do something a little different for the locations,instead of checking the whole location we will check the borough and the zone separately to get a better understanding how location placeholders work"
   ]
  },
  {
   "cell_type": "code",
   "execution_count": 402,
   "metadata": {},
   "outputs": [],
   "source": [
    "#separate the PU Location and DO Location to boroughs and zones\n",
    "\n",
    "\n",
    "\n",
    "def extract_location_info(df):\n",
    "    # Split PU Location and DO Location into borough and zone\n",
    "    df[\"pu_location_borough\"] = df[\"pu_location\"].str.split(',').str[0]\n",
    "    df[\"pu_location_zone\"] = df[\"pu_location\"].str.split(',').str[1]\n",
    "    df[\"do_location_borough\"] = df[\"do_location\"].str.split(',').str[0]\n",
    "    df[\"do_location_zone\"] = df[\"do_location\"].str.split(',').str[1]\n",
    "    return df\n",
    "\n",
    "# Call the function to add borough and zone columns to your DataFrame\n",
    "\n",
    "green_taxi_df_clean = extract_location_info(green_taxi_df_clean)\n"
   ]
  },
  {
   "cell_type": "code",
   "execution_count": 403,
   "metadata": {},
   "outputs": [
    {
     "data": {
      "text/plain": [
       "pu_location_borough\n",
       "Manhattan        251602\n",
       "Brooklyn         249618\n",
       "Queens           234139\n",
       "Bronx             46382\n",
       "Unknown             442\n",
       "Staten Island        98\n",
       "Name: count, dtype: int64"
      ]
     },
     "execution_count": 403,
     "metadata": {},
     "output_type": "execute_result"
    }
   ],
   "source": [
    "green_taxi_df_clean[\"pu_location_borough\"].value_counts()"
   ]
  },
  {
   "cell_type": "markdown",
   "metadata": {},
   "source": [
    "as we can see there is an \"Unknown\" placeholder value for the borough(pick up and drop off work the same way)"
   ]
  },
  {
   "cell_type": "code",
   "execution_count": 404,
   "metadata": {},
   "outputs": [
    {
     "data": {
      "text/plain": [
       "array(['East Williamsburg', 'Fort Greene', 'Astoria',\n",
       "       'Williamsburg (South Side)', 'Williamsburg (North Side)',\n",
       "       'Elmhurst/Maspeth', 'Downtown Brooklyn/MetroTech', 'Jamaica',\n",
       "       'Manhattanville', 'Inwood', 'Central Harlem North', 'Boerum Hill',\n",
       "       'DUMBO/Vinegar Hill', 'Morningside Heights', 'Carroll Gardens',\n",
       "       'Jackson Heights', 'Elmhurst', 'East Concourse/Concourse Village',\n",
       "       'Park Slope', 'Belmont', 'Cobble Hill', 'Steinway',\n",
       "       'Prospect Heights', 'Brooklyn Heights', 'Central Harlem',\n",
       "       'East Harlem North', 'Forest Hills', 'South Jamaica',\n",
       "       'Mott Haven/Port Morris', 'Hamilton Heights', 'Clinton Hill',\n",
       "       'East Harlem South', 'Long Island City/Hunters Point',\n",
       "       'Greenpoint', 'Bronxdale', 'Flushing', 'Crown Heights North',\n",
       "       'Sunset Park West', 'Woodside', 'Kew Gardens', 'Sunnyside',\n",
       "       'Washington Heights South', 'Upper East Side North', 'Rego Park',\n",
       "       'North Corona', 'Bedford', 'Old Astoria', 'Bloomingdale',\n",
       "       'Brighton Beach', 'Laurelton', 'Dyker Heights', 'Manhattan Beach',\n",
       "       'Queensbridge/Ravenswood', 'Prospect-Lefferts Gardens', 'Red Hook',\n",
       "       'Sheepshead Bay', 'Melrose South', 'Kingsbridge Heights',\n",
       "       'West Concourse', 'Flushing Meadows-Corona Park', 'Parkchester',\n",
       "       'Marble Hill', 'Baisley Park', 'Stuyvesant Heights',\n",
       "       'East New York/Pennsylvania Avenue',\n",
       "       'Long Island City/Queens Plaza', 'Bushwick South', 'East Tremont',\n",
       "       'Washington Heights North', 'Bushwick North', 'Soundview/Bruckner',\n",
       "       'Williamsbridge/Olinville', 'Briarwood/Jamaica Hills',\n",
       "       'Highbridge Park', 'Hunts Point', 'South Williamsburg',\n",
       "       'Morrisania/Melrose', 'Crown Heights South', 'Maspeth',\n",
       "       'Cambria Heights', 'Highbridge', 'South Ozone Park',\n",
       "       'Cypress Hills', 'Glendale', 'Corona', 'Co-Op City', 'Mount Hope',\n",
       "       'Howard Beach', 'Van Cortlandt Village', 'Norwood', 'Auburndale',\n",
       "       'Rosedale', 'Eastchester', 'Springfield Gardens North',\n",
       "       'Flatbush/Ditmas Park', 'Central Park',\n",
       "       'University Heights/Morris Heights', 'East New York',\n",
       "       'Woodlawn/Wakefield', 'Pelham Bay Park', 'Madison',\n",
       "       'Bensonhurst West', 'Coney Island', 'Ocean Hill', 'Midwood',\n",
       "       'Starrett City', 'Marine Park/Floyd Bennett Field',\n",
       "       'Claremont/Bathgate', 'Longwood', 'Bedford Park',\n",
       "       'Columbia Street', 'Marine Park/Mill Basin', 'Canarsie',\n",
       "       'West Farms/Bronx River', 'Flatlands', 'Soundview/Castle Hill',\n",
       "       'East Elmhurst', 'Kew Gardens Hills', 'Erasmus', 'Oakland Gardens',\n",
       "       'Saint Albans', 'Homecrest', 'East Flatbush/Farragut',\n",
       "       'East Flatbush/Remsen Village', 'Brownsville', 'Kensington',\n",
       "       'Schuylerville/Edgewater Park', 'Hollis', 'Far Rockaway',\n",
       "       'Jamaica Estates', 'Pelham Parkway', 'Sunset Park East',\n",
       "       'Bensonhurst East', 'Westchester Village/Unionport',\n",
       "       'Murray Hill-Queens', 'Bay Ridge', 'Queens Village',\n",
       "       'Richmond Hill', 'Gravesend', 'Gowanus', 'Woodhaven',\n",
       "       'Fordham South', 'Spuyten Duyvil/Kingsbridge', 'Middle Village',\n",
       "       'Hillcrest/Pomonok', 'Bath Beach', 'Ozone Park',\n",
       "       'Riverdale/North Riverdale/Fieldston', 'Van Cortlandt Park',\n",
       "       'Hammels/Arverne', 'Ridgewood', 'Borough Park', 'Yorkville West',\n",
       "       'Crotona Park East', 'Inwood Hill Park', 'Allerton/Pelham Gardens',\n",
       "       'Van Nest/Morris Park', 'Bellerose', 'Windsor Terrace',\n",
       "       'Ocean Parkway South', 'NV', 'Fresh Meadows', 'Glen Oaks',\n",
       "       'Bayside', 'Pelham Bay', 'Queensboro Hill', 'Rockaway Park',\n",
       "       'Green-Wood Cemetery', 'Bay Terrace/Fort Totten',\n",
       "       'Brooklyn Navy Yard', 'Prospect Park', 'Springfield Gardens South',\n",
       "       'Douglaston', 'College Point', 'Whitestone', 'Grymes Hill/Clifton',\n",
       "       'Roosevelt Island', 'Forest Park/Highland Park',\n",
       "       'LaGuardia Airport', 'Crotona Park', 'Randalls Island',\n",
       "       'Bronx Park', 'Unknown', 'East Flushing',\n",
       "       'Saint Michaels Cemetery/Woodside', 'Astoria Park', 'Union Sq',\n",
       "       'City Island', 'Yorkville East', 'Willets Point',\n",
       "       'Arrochar/Fort Wadsworth', 'Kips Bay', 'Country Club',\n",
       "       'West Brighton', 'Stapleton', 'JFK Airport',\n",
       "       'Sutton Place/Turtle Bay North', 'Lincoln Square East',\n",
       "       'TriBeCa/Civic Center', 'Saint George/New Brighton', 'Westerleigh',\n",
       "       'Clinton East', 'Mariners Harbor', 'Upper East Side South',\n",
       "       'Meatpacking/West Village West', 'South Beach/Dongan Hills',\n",
       "       'Bloomfield/Emerson Hill', 'Port Richmond', 'Lenox Hill East',\n",
       "       'Manhattan Valley', 'East Chelsea', 'New Dorp/Midland Beach',\n",
       "       'Seaport', 'Breezy Point/Fort Tilden/Riis Beach',\n",
       "       'Heartland Village/Todt Hill', 'Lenox Hill West', 'Alphabet City',\n",
       "       'West Chelsea/Hudson Yards', 'Financial District South',\n",
       "       'Upper West Side North', 'Garment District', 'Gramercy', 'Oakwood',\n",
       "       'Little Italy/NoLiTa', 'Clinton West', 'West Village',\n",
       "       'Midtown North', 'Upper West Side South', 'UN/Turtle Bay South',\n",
       "       'Lincoln Square West', 'Jamaica Bay', 'Midtown Center', 'Flatiron',\n",
       "       'Great Kills', 'Greenwich Village South', 'Murray Hill',\n",
       "       'East Village', 'Chinatown'], dtype=object)"
      ]
     },
     "execution_count": 404,
     "metadata": {},
     "output_type": "execute_result"
    }
   ],
   "source": [
    "green_taxi_df_clean[\"pu_location_zone\"].unique()"
   ]
  },
  {
   "cell_type": "markdown",
   "metadata": {},
   "source": [
    "too many zones to analyze maybe we can get a better idea of the placeholders for the zone by taking a look at the rows with missing boroughs"
   ]
  },
  {
   "cell_type": "code",
   "execution_count": 405,
   "metadata": {},
   "outputs": [
    {
     "data": {
      "text/html": [
       "<div>\n",
       "<style scoped>\n",
       "    .dataframe tbody tr th:only-of-type {\n",
       "        vertical-align: middle;\n",
       "    }\n",
       "\n",
       "    .dataframe tbody tr th {\n",
       "        vertical-align: top;\n",
       "    }\n",
       "\n",
       "    .dataframe thead th {\n",
       "        text-align: right;\n",
       "    }\n",
       "</style>\n",
       "<table border=\"1\" class=\"dataframe\">\n",
       "  <thead>\n",
       "    <tr style=\"text-align: right;\">\n",
       "      <th></th>\n",
       "      <th>vendor</th>\n",
       "      <th>lpep_pickup_datetime</th>\n",
       "      <th>lpep_dropoff_datetime</th>\n",
       "      <th>store_and_fwd_flag</th>\n",
       "      <th>rate_type</th>\n",
       "      <th>pu_location</th>\n",
       "      <th>do_location</th>\n",
       "      <th>passenger_count</th>\n",
       "      <th>trip_distance</th>\n",
       "      <th>fare_amount</th>\n",
       "      <th>...</th>\n",
       "      <th>tip_amount</th>\n",
       "      <th>tolls_amount</th>\n",
       "      <th>improvement_surcharge</th>\n",
       "      <th>total_amount</th>\n",
       "      <th>payment_type</th>\n",
       "      <th>trip_type</th>\n",
       "      <th>pu_location_borough</th>\n",
       "      <th>pu_location_zone</th>\n",
       "      <th>do_location_borough</th>\n",
       "      <th>do_location_zone</th>\n",
       "    </tr>\n",
       "  </thead>\n",
       "  <tbody>\n",
       "    <tr>\n",
       "      <th>696</th>\n",
       "      <td>VeriFone Inc.</td>\n",
       "      <td>2018-05-01 01:24:04</td>\n",
       "      <td>2018-05-01 01:43:12</td>\n",
       "      <td>N</td>\n",
       "      <td>Nassau or Westchester</td>\n",
       "      <td>Queens,Flushing</td>\n",
       "      <td>Unknown,Unknown</td>\n",
       "      <td>1.0</td>\n",
       "      <td>11.13</td>\n",
       "      <td>33.5</td>\n",
       "      <td>...</td>\n",
       "      <td>0.00</td>\n",
       "      <td>0.00</td>\n",
       "      <td>0.3</td>\n",
       "      <td>34.80</td>\n",
       "      <td>Cash</td>\n",
       "      <td>Street-hail</td>\n",
       "      <td>Queens</td>\n",
       "      <td>Flushing</td>\n",
       "      <td>Unknown</td>\n",
       "      <td>Unknown</td>\n",
       "    </tr>\n",
       "    <tr>\n",
       "      <th>864</th>\n",
       "      <td>VeriFone Inc.</td>\n",
       "      <td>2018-05-01 03:14:16</td>\n",
       "      <td>2018-05-01 03:18:16</td>\n",
       "      <td>N</td>\n",
       "      <td>Standard rate</td>\n",
       "      <td>Manhattan,Washington Heights North</td>\n",
       "      <td>Unknown,NV</td>\n",
       "      <td>1.0</td>\n",
       "      <td>0.49</td>\n",
       "      <td>4.0</td>\n",
       "      <td>...</td>\n",
       "      <td>0.00</td>\n",
       "      <td>0.00</td>\n",
       "      <td>0.3</td>\n",
       "      <td>5.30</td>\n",
       "      <td>Cash</td>\n",
       "      <td>Street-hail</td>\n",
       "      <td>Manhattan</td>\n",
       "      <td>Washington Heights North</td>\n",
       "      <td>Unknown</td>\n",
       "      <td>NV</td>\n",
       "    </tr>\n",
       "    <tr>\n",
       "      <th>1887</th>\n",
       "      <td>VeriFone Inc.</td>\n",
       "      <td>2018-05-01 08:04:07</td>\n",
       "      <td>2018-05-01 08:47:00</td>\n",
       "      <td>N</td>\n",
       "      <td>Standard rate</td>\n",
       "      <td>Queens,Elmhurst</td>\n",
       "      <td>Unknown,Unknown</td>\n",
       "      <td>1.0</td>\n",
       "      <td>19.09</td>\n",
       "      <td>51.5</td>\n",
       "      <td>...</td>\n",
       "      <td>4.00</td>\n",
       "      <td>0.00</td>\n",
       "      <td>0.3</td>\n",
       "      <td>56.30</td>\n",
       "      <td>Credit card</td>\n",
       "      <td>Street-hail</td>\n",
       "      <td>Queens</td>\n",
       "      <td>Elmhurst</td>\n",
       "      <td>Unknown</td>\n",
       "      <td>Unknown</td>\n",
       "    </tr>\n",
       "    <tr>\n",
       "      <th>2829</th>\n",
       "      <td>VeriFone Inc.</td>\n",
       "      <td>2018-05-01 07:44:26</td>\n",
       "      <td>2018-05-01 08:47:23</td>\n",
       "      <td>N</td>\n",
       "      <td>Nassau or Westchester</td>\n",
       "      <td>Queens,Far Rockaway</td>\n",
       "      <td>Unknown,Unknown</td>\n",
       "      <td>1.0</td>\n",
       "      <td>16.97</td>\n",
       "      <td>69.5</td>\n",
       "      <td>...</td>\n",
       "      <td>0.00</td>\n",
       "      <td>0.00</td>\n",
       "      <td>0.3</td>\n",
       "      <td>70.30</td>\n",
       "      <td>Credit card</td>\n",
       "      <td>Street-hail</td>\n",
       "      <td>Queens</td>\n",
       "      <td>Far Rockaway</td>\n",
       "      <td>Unknown</td>\n",
       "      <td>Unknown</td>\n",
       "    </tr>\n",
       "    <tr>\n",
       "      <th>3283</th>\n",
       "      <td>VeriFone Inc.</td>\n",
       "      <td>2018-05-01 08:07:53</td>\n",
       "      <td>2018-05-01 09:20:55</td>\n",
       "      <td>N</td>\n",
       "      <td>Standard rate</td>\n",
       "      <td>Bronx,Longwood</td>\n",
       "      <td>Unknown,Unknown</td>\n",
       "      <td>1.0</td>\n",
       "      <td>24.10</td>\n",
       "      <td>72.0</td>\n",
       "      <td>...</td>\n",
       "      <td>0.00</td>\n",
       "      <td>5.76</td>\n",
       "      <td>0.3</td>\n",
       "      <td>78.56</td>\n",
       "      <td>Credit card</td>\n",
       "      <td>Street-hail</td>\n",
       "      <td>Bronx</td>\n",
       "      <td>Longwood</td>\n",
       "      <td>Unknown</td>\n",
       "      <td>Unknown</td>\n",
       "    </tr>\n",
       "    <tr>\n",
       "      <th>...</th>\n",
       "      <td>...</td>\n",
       "      <td>...</td>\n",
       "      <td>...</td>\n",
       "      <td>...</td>\n",
       "      <td>...</td>\n",
       "      <td>...</td>\n",
       "      <td>...</td>\n",
       "      <td>...</td>\n",
       "      <td>...</td>\n",
       "      <td>...</td>\n",
       "      <td>...</td>\n",
       "      <td>...</td>\n",
       "      <td>...</td>\n",
       "      <td>...</td>\n",
       "      <td>...</td>\n",
       "      <td>...</td>\n",
       "      <td>...</td>\n",
       "      <td>...</td>\n",
       "      <td>...</td>\n",
       "      <td>...</td>\n",
       "      <td>...</td>\n",
       "    </tr>\n",
       "    <tr>\n",
       "      <th>795427</th>\n",
       "      <td>VeriFone Inc.</td>\n",
       "      <td>2018-05-31 22:10:17</td>\n",
       "      <td>2018-05-31 22:38:17</td>\n",
       "      <td>N</td>\n",
       "      <td>Nassau or Westchester</td>\n",
       "      <td>Queens,Willets Point</td>\n",
       "      <td>Unknown,Unknown</td>\n",
       "      <td>2.0</td>\n",
       "      <td>19.41</td>\n",
       "      <td>72.5</td>\n",
       "      <td>...</td>\n",
       "      <td>18.45</td>\n",
       "      <td>0.00</td>\n",
       "      <td>0.3</td>\n",
       "      <td>92.25</td>\n",
       "      <td>Credit card</td>\n",
       "      <td>Street-hail</td>\n",
       "      <td>Queens</td>\n",
       "      <td>Willets Point</td>\n",
       "      <td>Unknown</td>\n",
       "      <td>Unknown</td>\n",
       "    </tr>\n",
       "    <tr>\n",
       "      <th>795889</th>\n",
       "      <td>VeriFone Inc.</td>\n",
       "      <td>2018-05-31 23:02:05</td>\n",
       "      <td>2018-05-31 23:17:55</td>\n",
       "      <td>N</td>\n",
       "      <td>Negotiated fare</td>\n",
       "      <td>Queens,Corona</td>\n",
       "      <td>Unknown,Unknown</td>\n",
       "      <td>3.0</td>\n",
       "      <td>12.37</td>\n",
       "      <td>45.0</td>\n",
       "      <td>...</td>\n",
       "      <td>13.50</td>\n",
       "      <td>0.00</td>\n",
       "      <td>0.0</td>\n",
       "      <td>58.50</td>\n",
       "      <td>Credit card</td>\n",
       "      <td>Dispatch</td>\n",
       "      <td>Queens</td>\n",
       "      <td>Corona</td>\n",
       "      <td>Unknown</td>\n",
       "      <td>Unknown</td>\n",
       "    </tr>\n",
       "    <tr>\n",
       "      <th>795941</th>\n",
       "      <td>VeriFone Inc.</td>\n",
       "      <td>2018-05-31 23:00:39</td>\n",
       "      <td>2018-05-31 23:36:41</td>\n",
       "      <td>N</td>\n",
       "      <td>Nassau or Westchester</td>\n",
       "      <td>Queens,Flushing Meadows-Corona Park</td>\n",
       "      <td>Unknown,Unknown</td>\n",
       "      <td>5.0</td>\n",
       "      <td>26.24</td>\n",
       "      <td>97.5</td>\n",
       "      <td>...</td>\n",
       "      <td>0.00</td>\n",
       "      <td>0.00</td>\n",
       "      <td>0.3</td>\n",
       "      <td>98.80</td>\n",
       "      <td>Cash</td>\n",
       "      <td>Street-hail</td>\n",
       "      <td>Queens</td>\n",
       "      <td>Flushing Meadows-Corona Park</td>\n",
       "      <td>Unknown</td>\n",
       "      <td>Unknown</td>\n",
       "    </tr>\n",
       "    <tr>\n",
       "      <th>796414</th>\n",
       "      <td>VeriFone Inc.</td>\n",
       "      <td>2018-05-31 23:53:42</td>\n",
       "      <td>2018-06-01 00:49:50</td>\n",
       "      <td>N</td>\n",
       "      <td>Negotiated fare</td>\n",
       "      <td>Queens,Flushing Meadows-Corona Park</td>\n",
       "      <td>Unknown,Unknown</td>\n",
       "      <td>2.0</td>\n",
       "      <td>43.81</td>\n",
       "      <td>160.0</td>\n",
       "      <td>...</td>\n",
       "      <td>15.00</td>\n",
       "      <td>5.76</td>\n",
       "      <td>0.0</td>\n",
       "      <td>180.76</td>\n",
       "      <td>Credit card</td>\n",
       "      <td>Dispatch</td>\n",
       "      <td>Queens</td>\n",
       "      <td>Flushing Meadows-Corona Park</td>\n",
       "      <td>Unknown</td>\n",
       "      <td>Unknown</td>\n",
       "    </tr>\n",
       "    <tr>\n",
       "      <th>796457</th>\n",
       "      <td>VeriFone Inc.</td>\n",
       "      <td>2018-05-31 23:58:03</td>\n",
       "      <td>2018-06-01 00:17:28</td>\n",
       "      <td>N</td>\n",
       "      <td>Standard rate</td>\n",
       "      <td>Queens,Kew Gardens</td>\n",
       "      <td>Unknown,Unknown</td>\n",
       "      <td>2.0</td>\n",
       "      <td>8.74</td>\n",
       "      <td>26.5</td>\n",
       "      <td>...</td>\n",
       "      <td>0.00</td>\n",
       "      <td>0.00</td>\n",
       "      <td>0.3</td>\n",
       "      <td>27.80</td>\n",
       "      <td>Cash</td>\n",
       "      <td>Street-hail</td>\n",
       "      <td>Queens</td>\n",
       "      <td>Kew Gardens</td>\n",
       "      <td>Unknown</td>\n",
       "      <td>Unknown</td>\n",
       "    </tr>\n",
       "  </tbody>\n",
       "</table>\n",
       "<p>2111 rows × 22 columns</p>\n",
       "</div>"
      ],
      "text/plain": [
       "               vendor lpep_pickup_datetime lpep_dropoff_datetime  \\\n",
       "696     VeriFone Inc.  2018-05-01 01:24:04   2018-05-01 01:43:12   \n",
       "864     VeriFone Inc.  2018-05-01 03:14:16   2018-05-01 03:18:16   \n",
       "1887    VeriFone Inc.  2018-05-01 08:04:07   2018-05-01 08:47:00   \n",
       "2829    VeriFone Inc.  2018-05-01 07:44:26   2018-05-01 08:47:23   \n",
       "3283    VeriFone Inc.  2018-05-01 08:07:53   2018-05-01 09:20:55   \n",
       "...               ...                  ...                   ...   \n",
       "795427  VeriFone Inc.  2018-05-31 22:10:17   2018-05-31 22:38:17   \n",
       "795889  VeriFone Inc.  2018-05-31 23:02:05   2018-05-31 23:17:55   \n",
       "795941  VeriFone Inc.  2018-05-31 23:00:39   2018-05-31 23:36:41   \n",
       "796414  VeriFone Inc.  2018-05-31 23:53:42   2018-06-01 00:49:50   \n",
       "796457  VeriFone Inc.  2018-05-31 23:58:03   2018-06-01 00:17:28   \n",
       "\n",
       "       store_and_fwd_flag              rate_type  \\\n",
       "696                     N  Nassau or Westchester   \n",
       "864                     N          Standard rate   \n",
       "1887                    N          Standard rate   \n",
       "2829                    N  Nassau or Westchester   \n",
       "3283                    N          Standard rate   \n",
       "...                   ...                    ...   \n",
       "795427                  N  Nassau or Westchester   \n",
       "795889                  N        Negotiated fare   \n",
       "795941                  N  Nassau or Westchester   \n",
       "796414                  N        Negotiated fare   \n",
       "796457                  N          Standard rate   \n",
       "\n",
       "                                pu_location      do_location  passenger_count  \\\n",
       "696                         Queens,Flushing  Unknown,Unknown              1.0   \n",
       "864      Manhattan,Washington Heights North       Unknown,NV              1.0   \n",
       "1887                        Queens,Elmhurst  Unknown,Unknown              1.0   \n",
       "2829                    Queens,Far Rockaway  Unknown,Unknown              1.0   \n",
       "3283                         Bronx,Longwood  Unknown,Unknown              1.0   \n",
       "...                                     ...              ...              ...   \n",
       "795427                 Queens,Willets Point  Unknown,Unknown              2.0   \n",
       "795889                        Queens,Corona  Unknown,Unknown              3.0   \n",
       "795941  Queens,Flushing Meadows-Corona Park  Unknown,Unknown              5.0   \n",
       "796414  Queens,Flushing Meadows-Corona Park  Unknown,Unknown              2.0   \n",
       "796457                   Queens,Kew Gardens  Unknown,Unknown              2.0   \n",
       "\n",
       "        trip_distance  fare_amount  ...  tip_amount  tolls_amount  \\\n",
       "696             11.13         33.5  ...        0.00          0.00   \n",
       "864              0.49          4.0  ...        0.00          0.00   \n",
       "1887            19.09         51.5  ...        4.00          0.00   \n",
       "2829            16.97         69.5  ...        0.00          0.00   \n",
       "3283            24.10         72.0  ...        0.00          5.76   \n",
       "...               ...          ...  ...         ...           ...   \n",
       "795427          19.41         72.5  ...       18.45          0.00   \n",
       "795889          12.37         45.0  ...       13.50          0.00   \n",
       "795941          26.24         97.5  ...        0.00          0.00   \n",
       "796414          43.81        160.0  ...       15.00          5.76   \n",
       "796457           8.74         26.5  ...        0.00          0.00   \n",
       "\n",
       "        improvement_surcharge  total_amount  payment_type    trip_type  \\\n",
       "696                       0.3         34.80          Cash  Street-hail   \n",
       "864                       0.3          5.30          Cash  Street-hail   \n",
       "1887                      0.3         56.30   Credit card  Street-hail   \n",
       "2829                      0.3         70.30   Credit card  Street-hail   \n",
       "3283                      0.3         78.56   Credit card  Street-hail   \n",
       "...                       ...           ...           ...          ...   \n",
       "795427                    0.3         92.25   Credit card  Street-hail   \n",
       "795889                    0.0         58.50   Credit card     Dispatch   \n",
       "795941                    0.3         98.80          Cash  Street-hail   \n",
       "796414                    0.0        180.76   Credit card     Dispatch   \n",
       "796457                    0.3         27.80          Cash  Street-hail   \n",
       "\n",
       "       pu_location_borough              pu_location_zone do_location_borough  \\\n",
       "696                 Queens                      Flushing             Unknown   \n",
       "864              Manhattan      Washington Heights North             Unknown   \n",
       "1887                Queens                      Elmhurst             Unknown   \n",
       "2829                Queens                  Far Rockaway             Unknown   \n",
       "3283                 Bronx                      Longwood             Unknown   \n",
       "...                    ...                           ...                 ...   \n",
       "795427              Queens                 Willets Point             Unknown   \n",
       "795889              Queens                        Corona             Unknown   \n",
       "795941              Queens  Flushing Meadows-Corona Park             Unknown   \n",
       "796414              Queens  Flushing Meadows-Corona Park             Unknown   \n",
       "796457              Queens                   Kew Gardens             Unknown   \n",
       "\n",
       "       do_location_zone  \n",
       "696             Unknown  \n",
       "864                  NV  \n",
       "1887            Unknown  \n",
       "2829            Unknown  \n",
       "3283            Unknown  \n",
       "...                 ...  \n",
       "795427          Unknown  \n",
       "795889          Unknown  \n",
       "795941          Unknown  \n",
       "796414          Unknown  \n",
       "796457          Unknown  \n",
       "\n",
       "[2111 rows x 22 columns]"
      ]
     },
     "execution_count": 405,
     "metadata": {},
     "output_type": "execute_result"
    }
   ],
   "source": [
    "green_taxi_df_clean[(green_taxi_df_clean[\"pu_location_borough\"]== \"Unknown\") | (green_taxi_df_clean[\"do_location_borough\"]== \"Unknown\")]"
   ]
  },
  {
   "cell_type": "markdown",
   "metadata": {},
   "source": [
    "as we can see the values for missing zones are both \"Unknown\" and \"NV\",we will remove the rows as it's a small percentage and it's very hard to find the correct values for the missing locations."
   ]
  },
  {
   "cell_type": "code",
   "execution_count": 406,
   "metadata": {},
   "outputs": [],
   "source": [
    "green_taxi_df_clean = green_taxi_df_clean[(green_taxi_df_clean[\"pu_location_borough\"]!= \"Unknown\") &(green_taxi_df_clean[\"do_location_borough\"]!= \"Unknown\")]"
   ]
  },
  {
   "cell_type": "code",
   "execution_count": 407,
   "metadata": {},
   "outputs": [
    {
     "data": {
      "text/plain": [
       "(0, 22)"
      ]
     },
     "execution_count": 407,
     "metadata": {},
     "output_type": "execute_result"
    }
   ],
   "source": [
    "green_taxi_df_clean[(green_taxi_df_clean[\"pu_location_borough\"]== \"Unknown\") | (green_taxi_df_clean[\"do_location_borough\"]== \"Unknown\")].shape"
   ]
  },
  {
   "cell_type": "code",
   "execution_count": 408,
   "metadata": {},
   "outputs": [
    {
     "data": {
      "text/plain": [
       "payment_type\n",
       "Credit card    433860\n",
       "Cash           322320\n",
       "No charge        1754\n",
       "Dispute          1087\n",
       "Uknown             20\n",
       "Name: count, dtype: int64"
      ]
     },
     "execution_count": 408,
     "metadata": {},
     "output_type": "execute_result"
    }
   ],
   "source": [
    "green_taxi_df_clean[\"payment_type\"].value_counts()"
   ]
  },
  {
   "cell_type": "code",
   "execution_count": 409,
   "metadata": {},
   "outputs": [
    {
     "data": {
      "text/plain": [
       "19158     0.00\n",
       "103667    0.00\n",
       "108614    0.00\n",
       "110001    0.00\n",
       "112720    0.00\n",
       "144388    0.00\n",
       "188845    0.00\n",
       "258300    0.00\n",
       "282202    0.00\n",
       "330088    0.00\n",
       "359055    0.00\n",
       "362776    0.00\n",
       "434514    2.45\n",
       "491119    0.00\n",
       "536789    0.00\n",
       "563564    0.00\n",
       "594734    0.00\n",
       "627124    0.00\n",
       "660704    0.00\n",
       "670774    0.00\n",
       "Name: tip_amount, dtype: float64"
      ]
     },
     "execution_count": 409,
     "metadata": {},
     "output_type": "execute_result"
    }
   ],
   "source": [
    "green_taxi_df_clean[green_taxi_df_clean[\"payment_type\"] == \"Uknown\"][\"tip_amount\"]"
   ]
  },
  {
   "cell_type": "code",
   "execution_count": 410,
   "metadata": {},
   "outputs": [],
   "source": [
    "#if payment type is unknown and tip amount is 0 then payment type is cash\n",
    "#if payment type is unknown and tip amount is not 0 then payment type is credit card\n",
    "#also handle nulls\n",
    "def replace_unknown_payment_type(df):\n",
    "    for index, row in df.iterrows():\n",
    "        if pd.isnull(row['payment_type']) or row['payment_type'] == 'Uknown':\n",
    "            if row['tip_amount'] == 0:\n",
    "                df.at[index, 'payment_type'] = 'Cash'\n",
    "            else:\n",
    "                df.at[index, 'payment_type'] = 'Credit card'\n",
    "    return df\n",
    "\n",
    "green_taxi_df_clean = replace_unknown_payment_type(green_taxi_df_clean)\n"
   ]
  },
  {
   "cell_type": "code",
   "execution_count": 411,
   "metadata": {},
   "outputs": [
    {
     "data": {
      "text/plain": [
       "payment_type\n",
       "Credit card    443825\n",
       "Cash           333504\n",
       "No charge        1754\n",
       "Dispute          1087\n",
       "Name: count, dtype: int64"
      ]
     },
     "execution_count": 411,
     "metadata": {},
     "output_type": "execute_result"
    }
   ],
   "source": [
    "green_taxi_df_clean[\"payment_type\"].value_counts()"
   ]
  },
  {
   "cell_type": "code",
   "execution_count": 412,
   "metadata": {},
   "outputs": [
    {
     "data": {
      "text/plain": [
       "trip_type\n",
       "Street-hail    771834\n",
       "Dispatch         8336\n",
       "Name: count, dtype: int64"
      ]
     },
     "execution_count": 412,
     "metadata": {},
     "output_type": "execute_result"
    }
   ],
   "source": [
    "green_taxi_df_clean[\"trip_type\"].value_counts()"
   ]
  },
  {
   "cell_type": "markdown",
   "metadata": {},
   "source": [
    "now that we checked all columns for placeholders(we didnt check numerical columns as the only way they can have missing values would be null as they dont accept other values like unknown or nv),we can move on to handle null values.\n",
    "we have also handled the nulls in payment_type in the same method to save time.\n",
    "\n"
   ]
  },
  {
   "cell_type": "markdown",
   "metadata": {},
   "source": [
    "## Handling Missing data"
   ]
  },
  {
   "cell_type": "code",
   "execution_count": 413,
   "metadata": {},
   "outputs": [
    {
     "name": "stdout",
     "output_type": "stream",
     "text": [
      "<class 'pandas.core.frame.DataFrame'>\n",
      "Index: 780170 entries, 0 to 796564\n",
      "Data columns (total 22 columns):\n",
      " #   Column                 Non-Null Count   Dtype         \n",
      "---  ------                 --------------   -----         \n",
      " 0   vendor                 780170 non-null  object        \n",
      " 1   lpep_pickup_datetime   780170 non-null  datetime64[ns]\n",
      " 2   lpep_dropoff_datetime  780170 non-null  datetime64[ns]\n",
      " 3   store_and_fwd_flag     780170 non-null  object        \n",
      " 4   rate_type              780170 non-null  object        \n",
      " 5   pu_location            780170 non-null  object        \n",
      " 6   do_location            780170 non-null  object        \n",
      " 7   passenger_count        780170 non-null  float64       \n",
      " 8   trip_distance          780170 non-null  float64       \n",
      " 9   fare_amount            780170 non-null  float64       \n",
      " 10  extra                  366775 non-null  float64       \n",
      " 11  mta_tax                780170 non-null  float64       \n",
      " 12  tip_amount             780170 non-null  float64       \n",
      " 13  tolls_amount           780170 non-null  float64       \n",
      " 14  improvement_surcharge  780170 non-null  float64       \n",
      " 15  total_amount           780170 non-null  float64       \n",
      " 16  payment_type           780170 non-null  object        \n",
      " 17  trip_type              780170 non-null  object        \n",
      " 18  pu_location_borough    780170 non-null  object        \n",
      " 19  pu_location_zone       780170 non-null  object        \n",
      " 20  do_location_borough    780170 non-null  object        \n",
      " 21  do_location_zone       780170 non-null  object        \n",
      "dtypes: datetime64[ns](2), float64(9), object(11)\n",
      "memory usage: 153.0+ MB\n"
     ]
    }
   ],
   "source": [
    "green_taxi_df_clean.info()"
   ]
  },
  {
   "cell_type": "code",
   "execution_count": 414,
   "metadata": {},
   "outputs": [
    {
     "data": {
      "text/plain": [
       "extra\n",
       "0.5    215523\n",
       "1.0    150946\n",
       "4.5       306\n",
       "Name: count, dtype: int64"
      ]
     },
     "execution_count": 414,
     "metadata": {},
     "output_type": "execute_result"
    }
   ],
   "source": [
    "green_taxi_df_clean[\"extra\"].value_counts()"
   ]
  },
  {
   "cell_type": "markdown",
   "metadata": {},
   "source": [
    "we can see the there are no zeros however the extra charge is only applied to rush hours and overnight trips which means that most likely all the missing values were the zeros,we will replace them with zeros. this is MNAR behaviour as we know that whenever there was no extra charge it was not entered in the dataset."
   ]
  },
  {
   "cell_type": "code",
   "execution_count": 415,
   "metadata": {},
   "outputs": [],
   "source": [
    "green_taxi_df_clean[\"extra_imp\"] = green_taxi_df_clean[\"extra\"].fillna(0)"
   ]
  },
  {
   "cell_type": "code",
   "execution_count": 416,
   "metadata": {},
   "outputs": [
    {
     "data": {
      "text/plain": [
       "extra_imp\n",
       "0.0    413395\n",
       "0.5    215523\n",
       "1.0    150946\n",
       "4.5       306\n",
       "Name: count, dtype: int64"
      ]
     },
     "execution_count": 416,
     "metadata": {},
     "output_type": "execute_result"
    }
   ],
   "source": [
    "green_taxi_df_clean[\"extra_imp\"].value_counts()"
   ]
  },
  {
   "cell_type": "markdown",
   "metadata": {},
   "source": [
    "## Observing outliers"
   ]
  },
  {
   "cell_type": "markdown",
   "metadata": {},
   "source": [
    "## vendor"
   ]
  },
  {
   "cell_type": "markdown",
   "metadata": {},
   "source": [
    "#### no outliers as both categories are important although the distribution is unbalanced"
   ]
  },
  {
   "cell_type": "code",
   "execution_count": 417,
   "metadata": {},
   "outputs": [
    {
     "data": {
      "text/plain": [
       "vendor\n",
       "VeriFone Inc.                        651998\n",
       "Creative Mobile Technologies, LLC    128172\n",
       "Name: count, dtype: int64"
      ]
     },
     "execution_count": 417,
     "metadata": {},
     "output_type": "execute_result"
    }
   ],
   "source": [
    "green_taxi_df_clean[\"vendor\"].value_counts()"
   ]
  },
  {
   "cell_type": "markdown",
   "metadata": {},
   "source": [
    "## passenger_count"
   ]
  },
  {
   "cell_type": "markdown",
   "metadata": {},
   "source": [
    "#### trips with passenger count more than 6 amount to 7 trips which makes them clear outliers and they represent a negligible percentage of the data so we will drop them.\n",
    "#### also changed type to int for consistency(forgot to do it in earlier steps)"
   ]
  },
  {
   "cell_type": "code",
   "execution_count": 418,
   "metadata": {},
   "outputs": [
    {
     "data": {
      "text/plain": [
       "passenger_count\n",
       "1.0    659131\n",
       "2.0     61454\n",
       "5.0     26955\n",
       "6.0     14374\n",
       "3.0     13456\n",
       "4.0      4793\n",
       "7.0         5\n",
       "8.0         1\n",
       "9.0         1\n",
       "Name: count, dtype: int64"
      ]
     },
     "execution_count": 418,
     "metadata": {},
     "output_type": "execute_result"
    }
   ],
   "source": [
    "green_taxi_df_clean[\"passenger_count\"].value_counts()"
   ]
  },
  {
   "cell_type": "code",
   "execution_count": 419,
   "metadata": {},
   "outputs": [],
   "source": [
    "green_taxi_df_clean_outliers = green_taxi_df_clean[green_taxi_df_clean.passenger_count <= 6]"
   ]
  },
  {
   "cell_type": "code",
   "execution_count": 420,
   "metadata": {},
   "outputs": [
    {
     "data": {
      "text/plain": [
       "passenger_count\n",
       "1.0    659131\n",
       "2.0     61454\n",
       "5.0     26955\n",
       "6.0     14374\n",
       "3.0     13456\n",
       "4.0      4793\n",
       "Name: count, dtype: int64"
      ]
     },
     "execution_count": 420,
     "metadata": {},
     "output_type": "execute_result"
    }
   ],
   "source": [
    "green_taxi_df_clean_outliers[\"passenger_count\"].value_counts()"
   ]
  },
  {
   "cell_type": "code",
   "execution_count": 421,
   "metadata": {},
   "outputs": [
    {
     "name": "stderr",
     "output_type": "stream",
     "text": [
      "C:\\Users\\wagdy\\AppData\\Local\\Temp\\ipykernel_18760\\528321948.py:1: SettingWithCopyWarning: \n",
      "A value is trying to be set on a copy of a slice from a DataFrame.\n",
      "Try using .loc[row_indexer,col_indexer] = value instead\n",
      "\n",
      "See the caveats in the documentation: https://pandas.pydata.org/pandas-docs/stable/user_guide/indexing.html#returning-a-view-versus-a-copy\n",
      "  green_taxi_df_clean_outliers[\"passenger_count\"] = green_taxi_df_clean_outliers[\"passenger_count\"].astype(int)\n"
     ]
    }
   ],
   "source": [
    "green_taxi_df_clean_outliers[\"passenger_count\"] = green_taxi_df_clean_outliers[\"passenger_count\"].astype(int)"
   ]
  },
  {
   "cell_type": "markdown",
   "metadata": {},
   "source": [
    "## Trip_distance"
   ]
  },
  {
   "cell_type": "markdown",
   "metadata": {},
   "source": [
    "#### comment"
   ]
  },
  {
   "cell_type": "code",
   "execution_count": 422,
   "metadata": {},
   "outputs": [
    {
     "data": {
      "text/plain": [
       "count    780163.000000\n",
       "mean          3.249148\n",
       "std           3.671616\n",
       "min           0.010000\n",
       "25%           1.100000\n",
       "50%           1.970000\n",
       "75%           3.900000\n",
       "max         621.100000\n",
       "Name: trip_distance, dtype: float64"
      ]
     },
     "execution_count": 422,
     "metadata": {},
     "output_type": "execute_result"
    }
   ],
   "source": [
    "green_taxi_df_clean_outliers[\"trip_distance\"].describe()"
   ]
  },
  {
   "cell_type": "code",
   "execution_count": 423,
   "metadata": {},
   "outputs": [
    {
     "data": {
      "text/plain": [
       "<Axes: xlabel='trip_distance'>"
      ]
     },
     "execution_count": 423,
     "metadata": {},
     "output_type": "execute_result"
    },
    {
     "data": {
      "image/png": "[encoded data removed]",
      "text/plain": [
       "<Figure size 640x480 with 1 Axes>"
      ]
     },
     "metadata": {},
     "output_type": "display_data"
    }
   ],
   "source": [
    "sns.boxplot(x=green_taxi_df_clean_outliers['trip_distance'])\n"
   ]
  },
  {
   "cell_type": "markdown",
   "metadata": {},
   "source": [
    "#### almost all values fall within the range 0-100 so we can first remove the value beyond that then take a closer look "
   ]
  },
  {
   "cell_type": "code",
   "execution_count": 424,
   "metadata": {},
   "outputs": [
    {
     "data": {
      "text/plain": [
       "(2, 23)"
      ]
     },
     "execution_count": 424,
     "metadata": {},
     "output_type": "execute_result"
    }
   ],
   "source": [
    "green_taxi_df_clean_outliers[(green_taxi_df_clean_outliers['trip_distance'] >100 )].shape"
   ]
  },
  {
   "cell_type": "code",
   "execution_count": 425,
   "metadata": {},
   "outputs": [],
   "source": [
    "green_taxi_df_clean_outliers = green_taxi_df_clean_outliers[green_taxi_df_clean_outliers['trip_distance'] < 100]"
   ]
  },
  {
   "cell_type": "code",
   "execution_count": 426,
   "metadata": {},
   "outputs": [
    {
     "data": {
      "text/plain": [
       "(0, 23)"
      ]
     },
     "execution_count": 426,
     "metadata": {},
     "output_type": "execute_result"
    }
   ],
   "source": [
    "green_taxi_df_clean_outliers[(green_taxi_df_clean_outliers['trip_distance'] >100 )].shape"
   ]
  },
  {
   "cell_type": "code",
   "execution_count": 427,
   "metadata": {},
   "outputs": [
    {
     "data": {
      "text/plain": [
       "<Axes: xlabel='trip_distance'>"
      ]
     },
     "execution_count": 427,
     "metadata": {},
     "output_type": "execute_result"
    },
    {
     "data": {
      "image/png": "[encoded data removed]",
      "text/plain": [
       "<Figure size 640x480 with 1 Axes>"
      ]
     },
     "metadata": {},
     "output_type": "display_data"
    }
   ],
   "source": [
    "sns.boxplot(x=green_taxi_df_clean_outliers['trip_distance'])"
   ]
  },
  {
   "cell_type": "code",
   "execution_count": 428,
   "metadata": {},
   "outputs": [
    {
     "name": "stdout",
     "output_type": "stream",
     "text": [
      "0.017650202970925233\n"
     ]
    }
   ],
   "source": [
    "z = np.abs(stats.zscore(green_taxi_df_clean_outliers['trip_distance']))\n",
    "filtered_entries = z < 3.5\n",
    "print(1-(green_taxi_df_clean_outliers[filtered_entries].shape[0]/ green_taxi_df_clean_outliers.shape[0]))"
   ]
  },
  {
   "cell_type": "markdown",
   "metadata": {},
   "source": [
    "#### a zscore of 3.5 seems to find a good balance between keeping the majority of the data so that expensive trips are not needlessly detected as outliers while still detecting outliers that are far from the mean.\n",
    "\n",
    "#### we will replace them by capping them at the 3.5 zscore value"
   ]
  },
  {
   "cell_type": "code",
   "execution_count": 429,
   "metadata": {},
   "outputs": [
    {
     "name": "stderr",
     "output_type": "stream",
     "text": [
      "C:\\Users\\wagdy\\AppData\\Local\\Temp\\ipykernel_18760\\1812731733.py:7: UserWarning: Boolean Series key will be reindexed to match DataFrame index.\n",
      "  max_within_threshold = df[filtered_entries][\"trip_distance\"].max()\n"
     ]
    },
    {
     "data": {
      "text/plain": [
       "count    780161.000000\n",
       "mean          3.180319\n",
       "std           3.268951\n",
       "min           0.010000\n",
       "25%           1.100000\n",
       "50%           1.970000\n",
       "75%           3.900000\n",
       "max          16.090000\n",
       "Name: trip_distance_imputed, dtype: float64"
      ]
     },
     "execution_count": 429,
     "metadata": {},
     "output_type": "execute_result"
    },
    {
     "data": {
      "image/png": "[encoded data removed]",
      "text/plain": [
       "<Figure size 640x480 with 1 Axes>"
      ]
     },
     "metadata": {},
     "output_type": "display_data"
    }
   ],
   "source": [
    "def handle_trip_distance_outliers(df):\n",
    "    # Calculate Z-scores for the specified column\n",
    "    z = np.abs(stats.zscore(green_taxi_df_clean['trip_distance']))\n",
    "    filtered_entries = z < 3.5\n",
    "    \n",
    "    # Impute outliers with the maximum value within Z-score threshold\n",
    "    max_within_threshold = df[filtered_entries][\"trip_distance\"].max()\n",
    "    df[\"trip_distance_imputed\"] = df[\"trip_distance\"]\n",
    "    df.loc[~filtered_entries, \"trip_distance_imputed\"] = max_within_threshold\n",
    "    \n",
    "    return df\n",
    "green_taxi_df_clean_outliers = handle_trip_distance_outliers(green_taxi_df_clean_outliers)\n",
    "sns.boxplot(x=green_taxi_df_clean_outliers['trip_distance_imputed'])\n",
    "green_taxi_df_clean_outliers.trip_distance_imputed.describe()"
   ]
  },
  {
   "cell_type": "markdown",
   "metadata": {},
   "source": [
    "## fare_amount"
   ]
  },
  {
   "cell_type": "markdown",
   "metadata": {},
   "source": [
    "#### at first glance there are clear outliers to the right ,we use the zscore with a suitable cutoff(3.5) to detect them and replace them with the cutoff value."
   ]
  },
  {
   "cell_type": "code",
   "execution_count": 430,
   "metadata": {},
   "outputs": [
    {
     "data": {
      "text/plain": [
       "count    780161.000000\n",
       "mean         13.778720\n",
       "std          11.591533\n",
       "min           0.010000\n",
       "25%           6.500000\n",
       "50%          10.000000\n",
       "75%          16.500000\n",
       "max        2126.690000\n",
       "Name: fare_amount, dtype: float64"
      ]
     },
     "execution_count": 430,
     "metadata": {},
     "output_type": "execute_result"
    },
    {
     "data": {
      "image/png": "[encoded data removed]",
      "text/plain": [
       "<Figure size 640x480 with 1 Axes>"
      ]
     },
     "metadata": {},
     "output_type": "display_data"
    }
   ],
   "source": [
    "sns.boxplot(x=green_taxi_df_clean_outliers['fare_amount'])\n",
    "green_taxi_df_clean_outliers[\"fare_amount\"].describe()"
   ]
  },
  {
   "cell_type": "code",
   "execution_count": 431,
   "metadata": {},
   "outputs": [
    {
     "name": "stdout",
     "output_type": "stream",
     "text": [
      "0.01385867788828199\n"
     ]
    }
   ],
   "source": [
    "z = np.abs(stats.zscore(green_taxi_df_clean_outliers['fare_amount']))\n",
    "filtered_entries = z < 3.5\n",
    "print(1-(green_taxi_df_clean_outliers[filtered_entries].shape[0]/ green_taxi_df_clean_outliers.shape[0]))"
   ]
  },
  {
   "cell_type": "code",
   "execution_count": 432,
   "metadata": {},
   "outputs": [
    {
     "name": "stderr",
     "output_type": "stream",
     "text": [
      "C:\\Users\\wagdy\\AppData\\Local\\Temp\\ipykernel_18760\\1081567237.py:7: UserWarning: Boolean Series key will be reindexed to match DataFrame index.\n",
      "  max_within_threshold = df[filtered_entries][\"fare_amount\"].max()\n"
     ]
    },
    {
     "data": {
      "text/plain": [
       "count    780161.000000\n",
       "mean         13.607071\n",
       "std          10.462523\n",
       "min           0.010000\n",
       "25%           6.500000\n",
       "50%          10.000000\n",
       "75%          16.500000\n",
       "max          54.310000\n",
       "Name: fare_amount_imputed, dtype: float64"
      ]
     },
     "execution_count": 432,
     "metadata": {},
     "output_type": "execute_result"
    },
    {
     "data": {
      "image/png": "[encoded data removed]",
      "text/plain": [
       "<Figure size 640x480 with 1 Axes>"
      ]
     },
     "metadata": {},
     "output_type": "display_data"
    }
   ],
   "source": [
    "def handle_fare_amount_outliers(df):\n",
    "    # Calculate Z-scores for the specified column\n",
    "    z = np.abs(stats.zscore(green_taxi_df_clean['fare_amount']))\n",
    "    filtered_entries = z < 3.5\n",
    "    \n",
    "    # Impute outliers with the maximum value within Z-score threshold\n",
    "    max_within_threshold = df[filtered_entries][\"fare_amount\"].max()\n",
    "    df[\"fare_amount_imputed\"] = df[\"fare_amount\"]\n",
    "    df.loc[~filtered_entries, \"fare_amount_imputed\"] = max_within_threshold\n",
    "    \n",
    "    return df\n",
    "green_taxi_df_clean_outliers = handle_fare_amount_outliers(green_taxi_df_clean_outliers)\n",
    "sns.boxplot(x=green_taxi_df_clean_outliers['fare_amount_imputed'])\n",
    "green_taxi_df_clean_outliers.fare_amount_imputed.describe()"
   ]
  },
  {
   "cell_type": "markdown",
   "metadata": {},
   "source": [
    "## extra(we work on the imputed column)"
   ]
  },
  {
   "cell_type": "markdown",
   "metadata": {},
   "source": [
    "#### these are extra charges for rush hours and overnight and other things so we will keep them regardless of distribution"
   ]
  },
  {
   "cell_type": "code",
   "execution_count": 433,
   "metadata": {},
   "outputs": [
    {
     "data": {
      "text/plain": [
       "<Axes: xlabel='extra_imp'>"
      ]
     },
     "execution_count": 433,
     "metadata": {},
     "output_type": "execute_result"
    },
    {
     "data": {
      "image/png": "[encoded data removed]",
      "text/plain": [
       "<Figure size 640x480 with 1 Axes>"
      ]
     },
     "metadata": {},
     "output_type": "display_data"
    }
   ],
   "source": [
    "sns.boxplot(x=green_taxi_df_clean_outliers['extra_imp'])\n"
   ]
  },
  {
   "cell_type": "code",
   "execution_count": 434,
   "metadata": {},
   "outputs": [
    {
     "data": {
      "text/plain": [
       "extra_imp\n",
       "0.0    413388\n",
       "0.5    215522\n",
       "1.0    150945\n",
       "4.5       306\n",
       "Name: count, dtype: int64"
      ]
     },
     "execution_count": 434,
     "metadata": {},
     "output_type": "execute_result"
    }
   ],
   "source": [
    "green_taxi_df_clean_outliers[\"extra_imp\"].value_counts()"
   ]
  },
  {
   "cell_type": "markdown",
   "metadata": {},
   "source": [
    "## mta_tax"
   ]
  },
  {
   "cell_type": "markdown",
   "metadata": {},
   "source": [
    "#### no outliers as both categories are important although the distribution is unbalanced\n"
   ]
  },
  {
   "cell_type": "code",
   "execution_count": 435,
   "metadata": {},
   "outputs": [
    {
     "data": {
      "text/plain": [
       "mta_tax\n",
       "0.5    771345\n",
       "0.0      8825\n",
       "Name: count, dtype: int64"
      ]
     },
     "execution_count": 435,
     "metadata": {},
     "output_type": "execute_result"
    }
   ],
   "source": [
    "green_taxi_df_clean[\"mta_tax\"].value_counts()"
   ]
  },
  {
   "cell_type": "markdown",
   "metadata": {},
   "source": [
    "## tip_amount"
   ]
  },
  {
   "cell_type": "markdown",
   "metadata": {},
   "source": [
    "#### we observe that there are clear outliers in the tip_amount and therefore we use the iqr method to detect them and replace them with the cutoff value.however we use a bit of a bigger cutoff value(3) as we want to keep some of the outlier values as they are not too far from the mean."
   ]
  },
  {
   "cell_type": "code",
   "execution_count": 436,
   "metadata": {},
   "outputs": [
    {
     "data": {
      "text/plain": [
       "<Axes: xlabel='tip_amount'>"
      ]
     },
     "execution_count": 436,
     "metadata": {},
     "output_type": "execute_result"
    },
    {
     "data": {
      "image/png": "[encoded data removed]",
      "text/plain": [
       "<Figure size 640x480 with 1 Axes>"
      ]
     },
     "metadata": {},
     "output_type": "display_data"
    }
   ],
   "source": [
    "sns.boxplot(x=green_taxi_df_clean_outliers['tip_amount'])"
   ]
  },
  {
   "cell_type": "code",
   "execution_count": 437,
   "metadata": {},
   "outputs": [
    {
     "data": {
      "text/plain": [
       "0.015541663836054353"
      ]
     },
     "execution_count": 437,
     "metadata": {},
     "output_type": "execute_result"
    }
   ],
   "source": [
    "Q1 = green_taxi_df_clean_outliers['tip_amount'].quantile(0.25)\n",
    "Q3 = green_taxi_df_clean_outliers['tip_amount'].quantile(0.75)\n",
    "IQR = Q3 - Q1\n",
    "upper_limit = Q3 + 3 * IQR\n",
    "green_taxi_df_clean_outliers[green_taxi_df_clean_outliers['tip_amount'] > upper_limit].shape[0]/ green_taxi_df_clean_outliers.shape[0]"
   ]
  },
  {
   "cell_type": "code",
   "execution_count": 438,
   "metadata": {},
   "outputs": [
    {
     "data": {
      "text/plain": [
       "<Axes: xlabel='tip_amount'>"
      ]
     },
     "execution_count": 438,
     "metadata": {},
     "output_type": "execute_result"
    },
    {
     "data": {
      "image/png": "[encoded data removed]",
      "text/plain": [
       "<Figure size 640x480 with 1 Axes>"
      ]
     },
     "metadata": {},
     "output_type": "display_data"
    }
   ],
   "source": [
    "def handle_tip_amount_iqr(df):\n",
    "    # Calculate the IQR (Interquartile Range)\n",
    "    Q1 = df[\"tip_amount\"].quantile(0.25)\n",
    "    Q3 = df[\"tip_amount\"].quantile(0.75)\n",
    "    IQR = Q3 - Q1\n",
    "    \n",
    "    # Define lower and upper bounds for outliers\n",
    "    upper_bound = Q3 + 3 * IQR\n",
    "    \n",
    "    # Identify outliers based on IQR bounds\n",
    "    outliers_mask = (df[\"tip_amount\"] > upper_bound)\n",
    "    \n",
    "    # Impute outliers with the upper limit of the IQR\n",
    "    upper_limit = Q3 + 3 * IQR\n",
    "    df.loc[outliers_mask, \"tip_amount\"] = upper_limit\n",
    "    \n",
    "    return df\n",
    "green_taxi_df_clean_outliers = handle_tip_amount_iqr(green_taxi_df_clean_outliers)\n",
    "sns.boxplot(x=green_taxi_df_clean_outliers['tip_amount'])"
   ]
  },
  {
   "cell_type": "markdown",
   "metadata": {},
   "source": [
    "## tolls_amount"
   ]
  },
  {
   "cell_type": "markdown",
   "metadata": {},
   "source": [
    "#### we observe that almost all values fall between 0 and 5.76 so we use it as an upper limit and replace the outliers with it."
   ]
  },
  {
   "cell_type": "code",
   "execution_count": 439,
   "metadata": {},
   "outputs": [
    {
     "data": {
      "text/plain": [
       "tolls_amount\n",
       "0.00     756040\n",
       "5.76      21203\n",
       "2.64       1332\n",
       "2.16        517\n",
       "11.52       377\n",
       "          ...  \n",
       "26.66         1\n",
       "70.00         1\n",
       "16.50         1\n",
       "8.25          1\n",
       "11.08         1\n",
       "Name: count, Length: 89, dtype: int64"
      ]
     },
     "execution_count": 439,
     "metadata": {},
     "output_type": "execute_result"
    }
   ],
   "source": [
    "green_taxi_df_clean_outliers[\"tolls_amount\"].value_counts()"
   ]
  },
  {
   "cell_type": "code",
   "execution_count": 440,
   "metadata": {},
   "outputs": [
    {
     "data": {
      "text/plain": [
       "<Axes: xlabel='tolls_amount'>"
      ]
     },
     "execution_count": 440,
     "metadata": {},
     "output_type": "execute_result"
    },
    {
     "data": {
      "image/png": "[encoded data removed]",
      "text/plain": [
       "<Figure size 640x480 with 1 Axes>"
      ]
     },
     "metadata": {},
     "output_type": "display_data"
    }
   ],
   "source": [
    "def handle_tolls_amount(df):\n",
    "    # Calculate the IQR (Interquartile Range)\n",
    "    \n",
    "    # Define lower and upper bounds for outliers\n",
    "    \n",
    "    # Identify outliers based on IQR bounds\n",
    "    outliers_mask = (df[\"tolls_amount\"] > 5.76)\n",
    "    \n",
    "    # Impute outliers with the upper limit of the IQR\n",
    "    upper_limit = 5.76\n",
    "    df.loc[outliers_mask, \"tolls_amount\"] = upper_limit\n",
    "    \n",
    "    return df\n",
    "\n",
    "green_taxi_df_clean_outliers = handle_tolls_amount(green_taxi_df_clean_outliers)\n",
    "sns.boxplot(x=green_taxi_df_clean_outliers['tolls_amount'])"
   ]
  },
  {
   "cell_type": "markdown",
   "metadata": {},
   "source": [
    "## improvement_surcharge"
   ]
  },
  {
   "cell_type": "markdown",
   "metadata": {},
   "source": [
    "#### no outliers as both categories are important although the distribution is unbalanced\n"
   ]
  },
  {
   "cell_type": "code",
   "execution_count": 441,
   "metadata": {},
   "outputs": [
    {
     "data": {
      "text/plain": [
       "improvement_surcharge\n",
       "0.3    771790\n",
       "0.0      8371\n",
       "Name: count, dtype: int64"
      ]
     },
     "execution_count": 441,
     "metadata": {},
     "output_type": "execute_result"
    }
   ],
   "source": [
    "green_taxi_df_clean_outliers[\"improvement_surcharge\"].value_counts()"
   ]
  },
  {
   "cell_type": "markdown",
   "metadata": {},
   "source": [
    "## total_amount"
   ]
  },
  {
   "cell_type": "markdown",
   "metadata": {},
   "source": [
    "#### Used the same method as fare_amount as it's the total of all the other money related features."
   ]
  },
  {
   "cell_type": "code",
   "execution_count": 442,
   "metadata": {},
   "outputs": [
    {
     "data": {
      "text/plain": [
       "count    780161.000000\n",
       "mean         16.136303\n",
       "std          12.682974\n",
       "min           0.010000\n",
       "25%           8.300000\n",
       "50%          11.870000\n",
       "75%          19.300000\n",
       "max        2126.690000\n",
       "Name: total_amount, dtype: float64"
      ]
     },
     "execution_count": 442,
     "metadata": {},
     "output_type": "execute_result"
    },
    {
     "data": {
      "image/png": "[encoded data removed]",
      "text/plain": [
       "<Figure size 640x480 with 1 Axes>"
      ]
     },
     "metadata": {},
     "output_type": "display_data"
    }
   ],
   "source": [
    "sns.boxplot(x=green_taxi_df_clean_outliers['total_amount'])\n",
    "green_taxi_df_clean_outliers[\"total_amount\"].describe()"
   ]
  },
  {
   "cell_type": "code",
   "execution_count": 443,
   "metadata": {},
   "outputs": [
    {
     "name": "stdout",
     "output_type": "stream",
     "text": [
      "0.014429072973399126\n"
     ]
    }
   ],
   "source": [
    "z = np.abs(stats.zscore(green_taxi_df_clean_outliers['total_amount']))\n",
    "filtered_entries = z < 3.5\n",
    "print(1-(green_taxi_df_clean_outliers[filtered_entries].shape[0]/ green_taxi_df_clean_outliers.shape[0]))"
   ]
  },
  {
   "cell_type": "code",
   "execution_count": 444,
   "metadata": {},
   "outputs": [
    {
     "name": "stderr",
     "output_type": "stream",
     "text": [
      "C:\\Users\\wagdy\\AppData\\Local\\Temp\\ipykernel_18760\\2454904988.py:7: UserWarning: Boolean Series key will be reindexed to match DataFrame index.\n",
      "  max_within_threshold = df[filtered_entries][\"total_amount\"].max()\n"
     ]
    },
    {
     "data": {
      "text/plain": [
       "count    780161.000000\n",
       "mean         15.942532\n",
       "std          11.448146\n",
       "min           0.010000\n",
       "25%           8.300000\n",
       "50%          11.870000\n",
       "75%          19.300000\n",
       "max          60.560000\n",
       "Name: total_amount, dtype: float64"
      ]
     },
     "execution_count": 444,
     "metadata": {},
     "output_type": "execute_result"
    },
    {
     "data": {
      "image/png": "[encoded data removed]",
      "text/plain": [
       "<Figure size 640x480 with 1 Axes>"
      ]
     },
     "metadata": {},
     "output_type": "display_data"
    }
   ],
   "source": [
    "def handle_total_amount_outliers(df):\n",
    "    # Calculate Z-scores for the specified column\n",
    "    z = np.abs(stats.zscore(green_taxi_df_clean['total_amount']))\n",
    "    filtered_entries = z < 3.5\n",
    "    \n",
    "    # Impute outliers with the maximum value within Z-score threshold\n",
    "    max_within_threshold = df[filtered_entries][\"total_amount\"].max()\n",
    "    df.loc[~filtered_entries, \"total_amount\"] = max_within_threshold\n",
    "    \n",
    "    return df\n",
    "green_taxi_df_clean_outliers = handle_total_amount_outliers(green_taxi_df_clean_outliers)\n",
    "sns.boxplot(x=green_taxi_df_clean_outliers['total_amount'])\n",
    "green_taxi_df_clean_outliers.total_amount.describe()"
   ]
  },
  {
   "cell_type": "markdown",
   "metadata": {},
   "source": [
    "## payment_type"
   ]
  },
  {
   "cell_type": "markdown",
   "metadata": {},
   "source": [
    "#### no outliers as all categories are important although the distribution is unbalanced"
   ]
  },
  {
   "cell_type": "code",
   "execution_count": 445,
   "metadata": {},
   "outputs": [
    {
     "data": {
      "text/plain": [
       "payment_type\n",
       "Credit card    443823\n",
       "Cash           333497\n",
       "No charge        1754\n",
       "Dispute          1087\n",
       "Name: count, dtype: int64"
      ]
     },
     "execution_count": 445,
     "metadata": {},
     "output_type": "execute_result"
    }
   ],
   "source": [
    "green_taxi_df_clean_outliers[\"payment_type\"].value_counts()"
   ]
  },
  {
   "cell_type": "markdown",
   "metadata": {},
   "source": [
    "## trip_type"
   ]
  },
  {
   "cell_type": "markdown",
   "metadata": {},
   "source": [
    "#### no outliers as both categories are important although the distribution is unbalanced\n"
   ]
  },
  {
   "cell_type": "code",
   "execution_count": 446,
   "metadata": {},
   "outputs": [
    {
     "data": {
      "text/plain": [
       "trip_type\n",
       "Street-hail    771832\n",
       "Dispatch         8329\n",
       "Name: count, dtype: int64"
      ]
     },
     "execution_count": 446,
     "metadata": {},
     "output_type": "execute_result"
    }
   ],
   "source": [
    "green_taxi_df_clean_outliers[\"trip_type\"].value_counts()"
   ]
  },
  {
   "cell_type": "markdown",
   "metadata": {},
   "source": [
    "# 4 - Data transformation and feature eng."
   ]
  },
  {
   "cell_type": "markdown",
   "metadata": {},
   "source": [
    "## 4.1 - Discretization"
   ]
  },
  {
   "cell_type": "code",
   "execution_count": 447,
   "metadata": {},
   "outputs": [],
   "source": [
    "green_taxi_df_clean_outliers_engineered = green_taxi_df_clean_outliers.copy()"
   ]
  },
  {
   "cell_type": "code",
   "execution_count": 448,
   "metadata": {},
   "outputs": [],
   "source": [
    "def generate_date_features(df):\n",
    "    # Create 'week_number' column\n",
    "    df['week_number'] = df[\"lpep_pickup_datetime\"].dt.isocalendar().week\n",
    "    \n",
    "    # Create 'date_range' column\n",
    "    df['date_range'] = df[\"lpep_pickup_datetime\"].dt.to_period('W')\n",
    "    \n",
    "    return df\n",
    "\n",
    "\n",
    "green_taxi_df_clean_outliers_engineered = generate_date_features(green_taxi_df_clean_outliers_engineered)\n"
   ]
  },
  {
   "cell_type": "code",
   "execution_count": 449,
   "metadata": {},
   "outputs": [
    {
     "data": {
      "text/plain": [
       "date_range\n",
       "2018-05-07/2018-05-13    183241\n",
       "2018-05-14/2018-05-20    178020\n",
       "2018-05-21/2018-05-27    169217\n",
       "2018-04-30/2018-05-06    160618\n",
       "2018-05-28/2018-06-03     89065\n",
       "Freq: W-SUN, Name: count, dtype: int64"
      ]
     },
     "execution_count": 449,
     "metadata": {},
     "output_type": "execute_result"
    }
   ],
   "source": [
    "green_taxi_df_clean_outliers_engineered[\"week_number\"].value_counts()\n",
    "green_taxi_df_clean_outliers_engineered[\"date_range\"].value_counts()"
   ]
  },
  {
   "cell_type": "markdown",
   "metadata": {},
   "source": [
    "## 4.2 - Adding more features(feature eng.)"
   ]
  },
  {
   "cell_type": "code",
   "execution_count": 450,
   "metadata": {},
   "outputs": [],
   "source": [
    "def generate_time_features(df):\n",
    "    # Create 'is_weekend' column (1 for weekend, 0 for weekday)\n",
    "    df['is_weekend'] = df[\"lpep_pickup_datetime\"].dt.dayofweek // 5 == 1\n",
    "    \n",
    "    # Create 'is_night' column (1 for night, 0 for day)\n",
    "    df['is_night'] = (df[\"lpep_pickup_datetime\"].dt.hour < 6) | (df[\"lpep_pickup_datetime\"].dt.hour >= 20)\n",
    "    \n",
    "    return df\n",
    "green_taxi_df_clean_outliers_engineered = generate_time_features(green_taxi_df_clean_outliers_engineered)\n",
    "\n"
   ]
  },
  {
   "cell_type": "markdown",
   "metadata": {},
   "source": [
    "# EDA"
   ]
  },
  {
   "cell_type": "markdown",
   "metadata": {},
   "source": [
    "## questions"
   ]
  },
  {
   "cell_type": "markdown",
   "metadata": {},
   "source": [
    "#### 1- what is the rush hour or peak time for green taxis?(pick up  and drop off hour added earlier)\n",
    "#### 2-More trips on weekdays or weekends?\n",
    "#### 3 most expensive vebndor?\n",
    "#### 4-what's the most expensive city?\n",
    "#### 5-is the rush hour affected by weekend vs weekday?\n",
    "#### 6- which city uses green taxis the most?\n",
    "#### 7- more trips in the morning or evening?\n"
   ]
  },
  {
   "cell_type": "code",
   "execution_count": 451,
   "metadata": {},
   "outputs": [],
   "source": [
    "green_taxi_df_clean_outliers_engineered[\"pick_up_hour\"] = pd.to_datetime(green_taxi_df_clean_outliers_engineered[\"lpep_pickup_datetime\"]).dt.hour\n",
    "green_taxi_df_clean_outliers_engineered[\"drop_off_hour\"] = pd.to_datetime(green_taxi_df_clean_outliers_engineered[\"lpep_dropoff_datetime\"]).dt.hour"
   ]
  },
  {
   "cell_type": "markdown",
   "metadata": {},
   "source": [
    "### question 1"
   ]
  },
  {
   "cell_type": "code",
   "execution_count": 452,
   "metadata": {},
   "outputs": [
    {
     "data": {
      "text/plain": [
       "<Axes: xlabel='pick_up_hour'>"
      ]
     },
     "execution_count": 452,
     "metadata": {},
     "output_type": "execute_result"
    },
    {
     "data": {
      "image/png": "[encoded data removed]",
      "text/plain": [
       "<Figure size 640x480 with 1 Axes>"
      ]
     },
     "metadata": {},
     "output_type": "display_data"
    }
   ],
   "source": [
    "green_taxi_df_clean_outliers_engineered[\"pick_up_hour\"].value_counts().head(10).plot.bar()"
   ]
  },
  {
   "cell_type": "markdown",
   "metadata": {},
   "source": [
    "### question 2"
   ]
  },
  {
   "cell_type": "code",
   "execution_count": 453,
   "metadata": {},
   "outputs": [
    {
     "data": {
      "text/plain": [
       "<Axes: xlabel='is_weekend'>"
      ]
     },
     "execution_count": 453,
     "metadata": {},
     "output_type": "execute_result"
    },
    {
     "data": {
      "image/png": "[encoded data removed]",
      "text/plain": [
       "<Figure size 640x480 with 1 Axes>"
      ]
     },
     "metadata": {},
     "output_type": "display_data"
    }
   ],
   "source": [
    "green_taxi_df_clean_outliers_engineered[\"is_weekend\"].value_counts().plot.bar()"
   ]
  },
  {
   "cell_type": "markdown",
   "metadata": {},
   "source": [
    "### question 3"
   ]
  },
  {
   "cell_type": "code",
   "execution_count": 454,
   "metadata": {},
   "outputs": [
    {
     "data": {
      "text/plain": [
       "vendor\n",
       "Creative Mobile Technologies, LLC    14.861782\n",
       "VeriFone Inc.                        16.154990\n",
       "Name: total_amount, dtype: float64"
      ]
     },
     "execution_count": 454,
     "metadata": {},
     "output_type": "execute_result"
    }
   ],
   "source": [
    "#which vendor is more expensive\n",
    "green_taxi_df_clean_outliers_engineered.groupby(\"vendor\")[\"total_amount\"].mean()"
   ]
  },
  {
   "cell_type": "markdown",
   "metadata": {},
   "source": [
    "### question 4"
   ]
  },
  {
   "cell_type": "code",
   "execution_count": 455,
   "metadata": {},
   "outputs": [
    {
     "data": {
      "text/plain": [
       "pu_location_borough\n",
       "Bronx            20.998715\n",
       "Brooklyn         17.870478\n",
       "Manhattan        13.992613\n",
       "Queens           14.972302\n",
       "Staten Island    42.243980\n",
       "Name: total_amount, dtype: float64"
      ]
     },
     "execution_count": 455,
     "metadata": {},
     "output_type": "execute_result"
    }
   ],
   "source": [
    "green_taxi_df_clean_outliers_engineered.groupby(\"pu_location_borough\")[\"total_amount\"].mean()"
   ]
  },
  {
   "cell_type": "markdown",
   "metadata": {},
   "source": [
    "### question 5"
   ]
  },
  {
   "cell_type": "code",
   "execution_count": 456,
   "metadata": {},
   "outputs": [
    {
     "data": {
      "text/plain": [
       "<Axes: xlabel='is_weekend,pick_up_hour'>"
      ]
     },
     "execution_count": 456,
     "metadata": {},
     "output_type": "execute_result"
    },
    {
     "data": {
      "image/png": "[encoded data removed]",
      "text/plain": [
       "<Figure size 640x480 with 1 Axes>"
      ]
     },
     "metadata": {},
     "output_type": "display_data"
    }
   ],
   "source": [
    "green_taxi_df_clean_outliers_engineered.groupby(\"is_weekend\")[\"pick_up_hour\"].value_counts().plot.bar()"
   ]
  },
  {
   "cell_type": "markdown",
   "metadata": {},
   "source": [
    "### question 6"
   ]
  },
  {
   "cell_type": "code",
   "execution_count": 457,
   "metadata": {},
   "outputs": [
    {
     "data": {
      "text/plain": [
       "<Axes: xlabel='pu_location_borough'>"
      ]
     },
     "execution_count": 457,
     "metadata": {},
     "output_type": "execute_result"
    },
    {
     "data": {
      "image/png": "[encoded data removed]",
      "text/plain": [
       "<Figure size 640x480 with 1 Axes>"
      ]
     },
     "metadata": {},
     "output_type": "display_data"
    }
   ],
   "source": [
    "green_taxi_df_clean_outliers_engineered[\"pu_location_borough\"].value_counts().plot.bar()"
   ]
  },
  {
   "cell_type": "markdown",
   "metadata": {},
   "source": [
    "### question 7"
   ]
  },
  {
   "cell_type": "code",
   "execution_count": 458,
   "metadata": {},
   "outputs": [
    {
     "data": {
      "text/plain": [
       "<Axes: xlabel='is_night'>"
      ]
     },
     "execution_count": 458,
     "metadata": {},
     "output_type": "execute_result"
    },
    {
     "data": {
      "image/png": "[encoded data removed]",
      "text/plain": [
       "<Figure size 640x480 with 1 Axes>"
      ]
     },
     "metadata": {},
     "output_type": "display_data"
    }
   ],
   "source": [
    "green_taxi_df_clean_outliers_engineered[\"is_night\"].value_counts().plot.bar()"
   ]
  },
  {
   "cell_type": "markdown",
   "metadata": {},
   "source": [
    "## 4.3 - Encoding"
   ]
  },
  {
   "cell_type": "markdown",
   "metadata": {},
   "source": [
    "#### features that are binary were encoded using label encoder as they are ordinal features assuming true has more value that false,otherwise we would have used one hot encoding as there's no heirarchy between the values.\n",
    "#### original columns were kept"
   ]
  },
  {
   "cell_type": "code",
   "execution_count": 459,
   "metadata": {},
   "outputs": [
    {
     "name": "stdout",
     "output_type": "stream",
     "text": [
      "<class 'pandas.core.frame.DataFrame'>\n",
      "Index: 780161 entries, 0 to 796564\n",
      "Data columns (total 31 columns):\n",
      " #   Column                 Non-Null Count   Dtype         \n",
      "---  ------                 --------------   -----         \n",
      " 0   vendor                 780161 non-null  object        \n",
      " 1   lpep_pickup_datetime   780161 non-null  datetime64[ns]\n",
      " 2   lpep_dropoff_datetime  780161 non-null  datetime64[ns]\n",
      " 3   store_and_fwd_flag     780161 non-null  object        \n",
      " 4   rate_type              780161 non-null  object        \n",
      " 5   pu_location            780161 non-null  object        \n",
      " 6   do_location            780161 non-null  object        \n",
      " 7   passenger_count        780161 non-null  int32         \n",
      " 8   trip_distance          780161 non-null  float64       \n",
      " 9   fare_amount            780161 non-null  float64       \n",
      " 10  extra                  366773 non-null  float64       \n",
      " 11  mta_tax                780161 non-null  float64       \n",
      " 12  tip_amount             780161 non-null  float64       \n",
      " 13  tolls_amount           780161 non-null  float64       \n",
      " 14  improvement_surcharge  780161 non-null  float64       \n",
      " 15  total_amount           780161 non-null  float64       \n",
      " 16  payment_type           780161 non-null  object        \n",
      " 17  trip_type              780161 non-null  object        \n",
      " 18  pu_location_borough    780161 non-null  object        \n",
      " 19  pu_location_zone       780161 non-null  object        \n",
      " 20  do_location_borough    780161 non-null  object        \n",
      " 21  do_location_zone       780161 non-null  object        \n",
      " 22  extra_imp              780161 non-null  float64       \n",
      " 23  trip_distance_imputed  780161 non-null  float64       \n",
      " 24  fare_amount_imputed    780161 non-null  float64       \n",
      " 25  week_number            780161 non-null  UInt32        \n",
      " 26  date_range             780161 non-null  period[W-SUN] \n",
      " 27  is_weekend             780161 non-null  bool          \n",
      " 28  is_night               780161 non-null  bool          \n",
      " 29  pick_up_hour           780161 non-null  int32         \n",
      " 30  drop_off_hour          780161 non-null  int32         \n",
      "dtypes: UInt32(1), bool(2), datetime64[ns](2), float64(11), int32(3), object(11), period[W-SUN](1)\n",
      "memory usage: 168.9+ MB\n"
     ]
    }
   ],
   "source": [
    "green_taxi_df_clean_outliers_engineered.info()"
   ]
  },
  {
   "cell_type": "code",
   "execution_count": 461,
   "metadata": {},
   "outputs": [
    {
     "name": "stdout",
     "output_type": "stream",
     "text": [
      "<class 'pandas.core.frame.DataFrame'>\n",
      "Index: 780161 entries, 0 to 796564\n",
      "Data columns (total 45 columns):\n",
      " #   Column                                    Non-Null Count   Dtype         \n",
      "---  ------                                    --------------   -----         \n",
      " 0   vendor                                    780161 non-null  object        \n",
      " 1   lpep_pickup_datetime                      780161 non-null  datetime64[ns]\n",
      " 2   lpep_dropoff_datetime                     780161 non-null  datetime64[ns]\n",
      " 3   store_and_fwd_flag                        780161 non-null  int32         \n",
      " 4   rate_type                                 780161 non-null  object        \n",
      " 5   pu_location                               780161 non-null  object        \n",
      " 6   do_location                               780161 non-null  object        \n",
      " 7   passenger_count                           780161 non-null  int32         \n",
      " 8   trip_distance                             780161 non-null  float64       \n",
      " 9   fare_amount                               780161 non-null  float64       \n",
      " 10  extra                                     366773 non-null  float64       \n",
      " 11  mta_tax                                   780161 non-null  float64       \n",
      " 12  tip_amount                                780161 non-null  float64       \n",
      " 13  tolls_amount                              780161 non-null  float64       \n",
      " 14  improvement_surcharge                     780161 non-null  float64       \n",
      " 15  total_amount                              780161 non-null  float64       \n",
      " 16  payment_type                              780161 non-null  object        \n",
      " 17  trip_type                                 780161 non-null  object        \n",
      " 18  pu_location_borough                       780161 non-null  object        \n",
      " 19  pu_location_zone                          780161 non-null  object        \n",
      " 20  do_location_borough                       780161 non-null  object        \n",
      " 21  do_location_zone                          780161 non-null  object        \n",
      " 22  extra_imp                                 780161 non-null  float64       \n",
      " 23  trip_distance_imputed                     780161 non-null  float64       \n",
      " 24  fare_amount_imputed                       780161 non-null  float64       \n",
      " 25  week_number                               780161 non-null  UInt32        \n",
      " 26  date_range                                780161 non-null  period[W-SUN] \n",
      " 27  is_weekend                                780161 non-null  bool          \n",
      " 28  is_night                                  780161 non-null  bool          \n",
      " 29  pick_up_hour                              780161 non-null  int32         \n",
      " 30  drop_off_hour                             780161 non-null  int32         \n",
      " 31  vendor_Creative Mobile Technologies, LLC  780161 non-null  bool          \n",
      " 32  vendor_VeriFone Inc.                      780161 non-null  bool          \n",
      " 33  rate_type_Group ride                      780161 non-null  bool          \n",
      " 34  rate_type_JFK                             780161 non-null  bool          \n",
      " 35  rate_type_Nassau or Westchester           780161 non-null  bool          \n",
      " 36  rate_type_Negotiated fare                 780161 non-null  bool          \n",
      " 37  rate_type_Newark                          780161 non-null  bool          \n",
      " 38  rate_type_Standard rate                   780161 non-null  bool          \n",
      " 39  payment_type_Cash                         780161 non-null  bool          \n",
      " 40  payment_type_Credit card                  780161 non-null  bool          \n",
      " 41  payment_type_Dispute                      780161 non-null  bool          \n",
      " 42  payment_type_No charge                    780161 non-null  bool          \n",
      " 43  trip_type_Dispatch                        780161 non-null  bool          \n",
      " 44  trip_type_Street-hail                     780161 non-null  bool          \n",
      "dtypes: UInt32(1), bool(16), datetime64[ns](2), float64(11), int32(4), object(10), period[W-SUN](1)\n",
      "memory usage: 176.3+ MB\n"
     ]
    }
   ],
   "source": [
    "\n",
    "def encode_features(df):\n",
    "    result = df.copy() # take a copy of the dataframe\n",
    "    label_encoding_columns = ['store_and_fwd_flag']\n",
    "    one_hot_encoding_columns = ['vendor',\"rate_type\", \"payment_type\", 'trip_type']\n",
    "    # apply label encoding to the specified columns\n",
    "    label_encoder = preprocessing.LabelEncoder()\n",
    "    for col in label_encoding_columns:\n",
    "        result[col] = label_encoder.fit_transform(result[col])\n",
    "\n",
    "    # apply one-hot encoding to the specified columns using get_dummies\n",
    "    one_hot_encoding_df = pd.get_dummies(result[one_hot_encoding_columns])\n",
    "    \n",
    "    result = pd.concat([result, one_hot_encoding_df], axis=1)\n",
    "    \n",
    "\n",
    "    return result\n",
    "\n",
    "green_taxi_df_clean_outliers_engineered_encoded = encode_features(green_taxi_df_clean_outliers_engineered)\n",
    "green_taxi_df_clean_outliers_engineered_encoded.info()\n"
   ]
  },
  {
   "cell_type": "code",
   "execution_count": 462,
   "metadata": {},
   "outputs": [
    {
     "data": {
      "text/plain": [
       "vendor\n",
       "VeriFone Inc.                        651990\n",
       "Creative Mobile Technologies, LLC    128171\n",
       "Name: count, dtype: int64"
      ]
     },
     "execution_count": 462,
     "metadata": {},
     "output_type": "execute_result"
    }
   ],
   "source": [
    "green_taxi_df_clean_outliers_engineered[\"vendor\"].value_counts()"
   ]
  },
  {
   "cell_type": "markdown",
   "metadata": {},
   "source": [
    "## 4.4 - Normalisation "
   ]
  },
  {
   "cell_type": "markdown",
   "metadata": {},
   "source": [
    "#### we used minmax scaler as it's the most suitable for our data as it's not normally distributed and we scaled all numerical columns that have a big range of values to make sure they have the same effect on the model."
   ]
  },
  {
   "cell_type": "code",
   "execution_count": 463,
   "metadata": {},
   "outputs": [],
   "source": [
    "def scale_features(df):\n",
    "    result = df.copy() # take a copy of the dataframe\n",
    "    columns_to_scale = [\"trip_distance\",\"fare_amount\",\"tip_amount\",\"total_amount\"]\n",
    "    # apply min-max scaling to the specified columns\n",
    "    scaler = MinMaxScaler()\n",
    "    result[columns_to_scale] = scaler.fit_transform(result[columns_to_scale])\n",
    "    \n",
    "    return result\n",
    "\n",
    "green_taxi_df_clean_outliers_engineered_encoded_scaled = scale_features(green_taxi_df_clean_outliers_engineered_encoded)"
   ]
  },
  {
   "cell_type": "markdown",
   "metadata": {},
   "source": [
    "## 4.5 - Additional data extraction (GPS coordinates)"
   ]
  },
  {
   "cell_type": "code",
   "execution_count": 464,
   "metadata": {},
   "outputs": [],
   "source": [
    "from opencage.geocoder import OpenCageGeocode\n",
    "\n",
    "# Replace 'YOUR_API_KEY' with your actual OpenCage Geocoding API key\n",
    "api_key = \"e5370232998a4369b116891cd3297584\"\n",
    "\n",
    "def get_unique_coordinates(unique_locations):\n",
    "    geocoder = OpenCageGeocode(api_key)\n",
    "    coordinates_dict = {}\n",
    "\n",
    "    for location in unique_locations:\n",
    "        results = geocoder.geocode(location)\n",
    "        if results and len(results):\n",
    "            coordinates_dict[location] = {\n",
    "                'latitude': results[0]['geometry']['lat'],\n",
    "                'longitude': results[0]['geometry']['lng']\n",
    "            }\n",
    "\n",
    "    return coordinates_dict\n",
    "\n",
    "\n",
    "def add_coordinates_to_dataframe(df):\n",
    "    unique_pickup_locations = df[\"pu_location\"].unique()\n",
    "    unique_dropoff_locations = df[\"do_location\"].unique()\n",
    "    unique_locations = np.unique(np.concatenate((unique_pickup_locations, unique_dropoff_locations), axis=0))\n",
    "\n",
    "\n",
    "    unique_coordinates = get_unique_coordinates(unique_locations)\n",
    "    # dropoff_coordinates = get_unique_coordinates(unique_dropoff_locations)\n",
    "\n",
    "    df['pu_latitude'] = df[\"pu_location\"].map(lambda x: unique_coordinates.get(x, {}).get('latitude'))\n",
    "    df['pu_longitude'] = df[\"pu_location\"].map(lambda x: unique_coordinates.get(x, {}).get('longitude'))\n",
    "    df['do_latitude'] = df[\"do_location\"].map(lambda x: unique_coordinates.get(x, {}).get('latitude'))\n",
    "    df['do_longitude'] = df[\"do_location\"].map(lambda x: unique_coordinates.get(x, {}).get('longitude'))\n",
    "\n",
    "    return df\n",
    "\n",
    "green_taxi_df_clean_outliers_engineered_encoded_scaled_with_coordinates = add_coordinates_to_dataframe(green_taxi_df_clean_outliers_engineered_encoded_scaled)\n",
    "\n"
   ]
  },
  {
   "cell_type": "code",
   "execution_count": 465,
   "metadata": {},
   "outputs": [
    {
     "name": "stdout",
     "output_type": "stream",
     "text": [
      "<class 'pandas.core.frame.DataFrame'>\n",
      "Index: 780161 entries, 0 to 796564\n",
      "Data columns (total 49 columns):\n",
      " #   Column                                    Non-Null Count   Dtype         \n",
      "---  ------                                    --------------   -----         \n",
      " 0   vendor                                    780161 non-null  object        \n",
      " 1   lpep_pickup_datetime                      780161 non-null  datetime64[ns]\n",
      " 2   lpep_dropoff_datetime                     780161 non-null  datetime64[ns]\n",
      " 3   store_and_fwd_flag                        780161 non-null  int32         \n",
      " 4   rate_type                                 780161 non-null  object        \n",
      " 5   pu_location                               780161 non-null  object        \n",
      " 6   do_location                               780161 non-null  object        \n",
      " 7   passenger_count                           780161 non-null  int32         \n",
      " 8   trip_distance                             780161 non-null  float64       \n",
      " 9   fare_amount                               780161 non-null  float64       \n",
      " 10  extra                                     366773 non-null  float64       \n",
      " 11  mta_tax                                   780161 non-null  float64       \n",
      " 12  tip_amount                                780161 non-null  float64       \n",
      " 13  tolls_amount                              780161 non-null  float64       \n",
      " 14  improvement_surcharge                     780161 non-null  float64       \n",
      " 15  total_amount                              780161 non-null  float64       \n",
      " 16  payment_type                              780161 non-null  object        \n",
      " 17  trip_type                                 780161 non-null  object        \n",
      " 18  pu_location_borough                       780161 non-null  object        \n",
      " 19  pu_location_zone                          780161 non-null  object        \n",
      " 20  do_location_borough                       780161 non-null  object        \n",
      " 21  do_location_zone                          780161 non-null  object        \n",
      " 22  extra_imp                                 780161 non-null  float64       \n",
      " 23  trip_distance_imputed                     780161 non-null  float64       \n",
      " 24  fare_amount_imputed                       780161 non-null  float64       \n",
      " 25  week_number                               780161 non-null  UInt32        \n",
      " 26  date_range                                780161 non-null  period[W-SUN] \n",
      " 27  is_weekend                                780161 non-null  bool          \n",
      " 28  is_night                                  780161 non-null  bool          \n",
      " 29  pick_up_hour                              780161 non-null  int32         \n",
      " 30  drop_off_hour                             780161 non-null  int32         \n",
      " 31  vendor_Creative Mobile Technologies, LLC  780161 non-null  bool          \n",
      " 32  vendor_VeriFone Inc.                      780161 non-null  bool          \n",
      " 33  rate_type_Group ride                      780161 non-null  bool          \n",
      " 34  rate_type_JFK                             780161 non-null  bool          \n",
      " 35  rate_type_Nassau or Westchester           780161 non-null  bool          \n",
      " 36  rate_type_Negotiated fare                 780161 non-null  bool          \n",
      " 37  rate_type_Newark                          780161 non-null  bool          \n",
      " 38  rate_type_Standard rate                   780161 non-null  bool          \n",
      " 39  payment_type_Cash                         780161 non-null  bool          \n",
      " 40  payment_type_Credit card                  780161 non-null  bool          \n",
      " 41  payment_type_Dispute                      780161 non-null  bool          \n",
      " 42  payment_type_No charge                    780161 non-null  bool          \n",
      " 43  trip_type_Dispatch                        780161 non-null  bool          \n",
      " 44  trip_type_Street-hail                     780161 non-null  bool          \n",
      " 45  pu_latitude                               768179 non-null  float64       \n",
      " 46  pu_longitude                              768179 non-null  float64       \n",
      " 47  do_latitude                               764764 non-null  float64       \n",
      " 48  do_longitude                              764764 non-null  float64       \n",
      "dtypes: UInt32(1), bool(16), datetime64[ns](2), float64(15), int32(4), object(10), period[W-SUN](1)\n",
      "memory usage: 200.1+ MB\n"
     ]
    }
   ],
   "source": [
    "green_taxi_df_clean_outliers_engineered_encoded_scaled_with_coordinates.info()"
   ]
  },
  {
   "cell_type": "markdown",
   "metadata": {},
   "source": [
    "## 5- Exporting the dataframe to a csv file or parquet"
   ]
  },
  {
   "cell_type": "code",
   "execution_count": 466,
   "metadata": {},
   "outputs": [],
   "source": [
    "green_taxi_df_clean_outliers_engineered_encoded_scaled_with_coordinates.to_csv('../dataset/cleaned_data.csv',index=False)"
   ]
  }
 ],
 "metadata": {
  "kernelspec": {
   "display_name": "Python 3 (ipykernel)",
   "language": "python",
   "name": "python3"
  },
  "language_info": {
   "codemirror_mode": {
    "name": "ipython",
    "version": 3
   },
   "file_extension": ".py",
   "mimetype": "text/x-python",
   "name": "python",
   "nbconvert_exporter": "python",
   "pygments_lexer": "ipython3",
   "version": "3.11.5"
  }
 },
 "nbformat": 4,
 "nbformat_minor": 4
}
