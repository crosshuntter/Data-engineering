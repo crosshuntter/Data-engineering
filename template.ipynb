{
 "cells": [
  {
   "cell_type": "markdown",
   "metadata": {},
   "source": [
    "# Milestone 1 - EDA and Preprocessing data "
   ]
  },
  {
   "cell_type": "markdown",
   "metadata": {},
   "source": [
    "***Important note*** - This is merely a template. you are more than free to change how it looks or create one from scratch."
   ]
  },
  {
   "cell_type": "markdown",
   "metadata": {},
   "source": [
    "- Load dataset\n",
    "- Explore the dataset and ask atleast 5 questions to give you a better understanding of the data provided to you. \n",
    "- Visualise the answer to these 5 questions.\n",
    "- Cleaning the data\n",
    "    - Tidy up the column names, make sure there is no spaces\n",
    "    - Observe,comment on and handle inconsistent data.(i.e duplicates, irrelevant data,incorrect data,etc)\n",
    "    - Observe missing data and comment on why you believe it is missing(MCAR,MAR or MNAR).\n",
    "    - Handle missing data\n",
    "    - Observe and comment on outliers\n",
    "    - Handle outliers\n",
    "- With every change you are making to the data you need to comment on why you used this technique and how has it affected the data(by both showing the change in the data i.e change in number of rows/columns,change in distrubution, etc and commenting on it).\n",
    "- Data transformation and feature engineering\n",
    "    - Add 2 new columns named 'Week number' and 'Date range' and discretize the data into weeks according to the dates. \n",
    "        - Tip: Change the datatype of the date feature to datetime type instead of object.\n",
    "    - Encode any categorical feature(s) and comment on why you used this technique and how the data has changed.\n",
    "    - If exists , Identify feature(s) which need normalization and show your reasoning. Then choose a technique to normalize the feature(s) and comment on why you chose this technique.\n",
    "- Additional data extraction\n",
    "    - Add GPS coordinates for the cities/locations.\n",
    "    - For this task you can extract the GPS coordinates from an API or web scraping and integrate into your csv file as new features. \n",
    "    - Tip 1 - you can find the web scraping and data integration notebooks under 'additional resources'  on the CMS useful.\n",
    "    - Tip 2 - If you are going to use an API make sure you do not make request for each existing row but rather group by the cities and get their respective coordinates. Making a request for each row is too inefficient and expensive.\n",
    "    - Tip 3 - Rather than running the code for calling the API each time you load the notebook, the first time you call the API save the results in a csv file and then you could you check if a csv file exists for the GPS coordinates, if so, load directly and don't call APi. Same applies for web scraping.\n",
    "\n",
    "- Lookup table and load back into new csv file\n",
    "    - Create a lookup table\n",
    "    - Load the new dataset into a new csv file named `green_trip_data_{year}-{month}clean.csv`. replace year and month with the appropriate values.\n",
    "    - Load the lookup table to a csv file called `lookup_table_green_taxis.csv` \n",
    "- Bonus: Load the dataset as a parquet file instead of a csv file(Parquet file is a compressed file format)."
   ]
  },
  {
   "cell_type": "markdown",
   "metadata": {},
   "source": [
    "# 1 - extraction"
   ]
  },
  {
   "cell_type": "code",
   "execution_count": 50,
   "metadata": {},
   "outputs": [],
   "source": [
    "import pandas as pd\n",
    "import matplotlib.pyplot as plt\n",
    "import seaborn as sns"
   ]
  },
  {
   "cell_type": "code",
   "execution_count": 51,
   "metadata": {},
   "outputs": [],
   "source": [
    "green_taxi_df = pd.read_csv('../dataset/green_tripdata_2018-05.csv')\n",
    "green_taxi_df_clean = green_taxi_df.copy()"
   ]
  },
  {
   "cell_type": "code",
   "execution_count": 52,
   "metadata": {},
   "outputs": [
    {
     "name": "stdout",
     "output_type": "stream",
     "text": [
      "<class 'pandas.core.frame.DataFrame'>\n",
      "RangeIndex: 796565 entries, 0 to 796564\n",
      "Data columns (total 20 columns):\n",
      " #   Column                 Non-Null Count   Dtype  \n",
      "---  ------                 --------------   -----  \n",
      " 0   Vendor                 796565 non-null  object \n",
      " 1   lpep pickup datetime   796565 non-null  object \n",
      " 2   lpep dropoff datetime  796565 non-null  object \n",
      " 3   store and fwd flag     796565 non-null  object \n",
      " 4   Rate type              796565 non-null  object \n",
      " 5   PU Location            796565 non-null  object \n",
      " 6   DO Location            796565 non-null  object \n",
      " 7   passenger count        794848 non-null  float64\n",
      " 8   trip distance          796565 non-null  float64\n",
      " 9   fare amount            796565 non-null  float64\n",
      " 10  extra                  371974 non-null  float64\n",
      " 11  mta tax                796565 non-null  float64\n",
      " 12  tip amount             796565 non-null  float64\n",
      " 13  tolls amount           796565 non-null  float64\n",
      " 14  ehail fee              0 non-null       float64\n",
      " 15  improvement surcharge  796565 non-null  float64\n",
      " 16  total amount           796565 non-null  float64\n",
      " 17  payment type           774722 non-null  object \n",
      " 18  trip type              796565 non-null  object \n",
      " 19  congestion surcharge   0 non-null       float64\n",
      "dtypes: float64(11), object(9)\n",
      "memory usage: 121.5+ MB\n"
     ]
    }
   ],
   "source": [
    "green_taxi_df.info()"
   ]
  },
  {
   "cell_type": "markdown",
   "metadata": {},
   "source": [
    "# 2- EDA"
   ]
  },
  {
   "cell_type": "code",
   "execution_count": 53,
   "metadata": {},
   "outputs": [],
   "source": [
    "green_taxi_df_clean[\"pick up hour\"] = pd.to_datetime(green_taxi_df_clean[\"lpep pickup datetime\"]).dt.hour\n",
    "green_taxi_df_clean[\"drop off hour\"] = pd.to_datetime(green_taxi_df_clean[\"lpep dropoff datetime\"]).dt.hour"
   ]
  },
  {
   "cell_type": "code",
   "execution_count": 54,
   "metadata": {},
   "outputs": [
    {
     "data": {
      "text/html": [
       "<div>\n",
       "<style scoped>\n",
       "    .dataframe tbody tr th:only-of-type {\n",
       "        vertical-align: middle;\n",
       "    }\n",
       "\n",
       "    .dataframe tbody tr th {\n",
       "        vertical-align: top;\n",
       "    }\n",
       "\n",
       "    .dataframe thead th {\n",
       "        text-align: right;\n",
       "    }\n",
       "</style>\n",
       "<table border=\"1\" class=\"dataframe\">\n",
       "  <thead>\n",
       "    <tr style=\"text-align: right;\">\n",
       "      <th></th>\n",
       "      <th>Vendor</th>\n",
       "      <th>lpep pickup datetime</th>\n",
       "      <th>lpep dropoff datetime</th>\n",
       "      <th>store and fwd flag</th>\n",
       "      <th>Rate type</th>\n",
       "      <th>PU Location</th>\n",
       "      <th>DO Location</th>\n",
       "      <th>passenger count</th>\n",
       "      <th>trip distance</th>\n",
       "      <th>fare amount</th>\n",
       "      <th>...</th>\n",
       "      <th>tip amount</th>\n",
       "      <th>tolls amount</th>\n",
       "      <th>ehail fee</th>\n",
       "      <th>improvement surcharge</th>\n",
       "      <th>total amount</th>\n",
       "      <th>payment type</th>\n",
       "      <th>trip type</th>\n",
       "      <th>congestion surcharge</th>\n",
       "      <th>pick up hour</th>\n",
       "      <th>drop off hour</th>\n",
       "    </tr>\n",
       "  </thead>\n",
       "  <tbody>\n",
       "    <tr>\n",
       "      <th>count</th>\n",
       "      <td>796565</td>\n",
       "      <td>796565</td>\n",
       "      <td>796565</td>\n",
       "      <td>796565</td>\n",
       "      <td>796565</td>\n",
       "      <td>796565</td>\n",
       "      <td>796565</td>\n",
       "      <td>794848.000000</td>\n",
       "      <td>796565.000000</td>\n",
       "      <td>796565.000000</td>\n",
       "      <td>...</td>\n",
       "      <td>796565.000000</td>\n",
       "      <td>796565.000000</td>\n",
       "      <td>0.0</td>\n",
       "      <td>796565.000000</td>\n",
       "      <td>796565.000000</td>\n",
       "      <td>774722</td>\n",
       "      <td>796565</td>\n",
       "      <td>0.0</td>\n",
       "      <td>796565.000000</td>\n",
       "      <td>796565.000000</td>\n",
       "    </tr>\n",
       "    <tr>\n",
       "      <th>unique</th>\n",
       "      <td>2</td>\n",
       "      <td>664605</td>\n",
       "      <td>663849</td>\n",
       "      <td>2</td>\n",
       "      <td>6</td>\n",
       "      <td>241</td>\n",
       "      <td>258</td>\n",
       "      <td>NaN</td>\n",
       "      <td>NaN</td>\n",
       "      <td>NaN</td>\n",
       "      <td>...</td>\n",
       "      <td>NaN</td>\n",
       "      <td>NaN</td>\n",
       "      <td>NaN</td>\n",
       "      <td>NaN</td>\n",
       "      <td>NaN</td>\n",
       "      <td>5</td>\n",
       "      <td>2</td>\n",
       "      <td>NaN</td>\n",
       "      <td>NaN</td>\n",
       "      <td>NaN</td>\n",
       "    </tr>\n",
       "    <tr>\n",
       "      <th>top</th>\n",
       "      <td>VeriFone Inc.</td>\n",
       "      <td>2018-05-24 17:38:41</td>\n",
       "      <td>2018-05-05 00:00:00</td>\n",
       "      <td>N</td>\n",
       "      <td>Standard rate</td>\n",
       "      <td>Manhattan,East Harlem North</td>\n",
       "      <td>Manhattan,East Harlem North</td>\n",
       "      <td>NaN</td>\n",
       "      <td>NaN</td>\n",
       "      <td>NaN</td>\n",
       "      <td>...</td>\n",
       "      <td>NaN</td>\n",
       "      <td>NaN</td>\n",
       "      <td>NaN</td>\n",
       "      <td>NaN</td>\n",
       "      <td>NaN</td>\n",
       "      <td>Credit card</td>\n",
       "      <td>Street-hail</td>\n",
       "      <td>NaN</td>\n",
       "      <td>NaN</td>\n",
       "      <td>NaN</td>\n",
       "    </tr>\n",
       "    <tr>\n",
       "      <th>freq</th>\n",
       "      <td>663976</td>\n",
       "      <td>7</td>\n",
       "      <td>44</td>\n",
       "      <td>795348</td>\n",
       "      <td>782205</td>\n",
       "      <td>49432</td>\n",
       "      <td>26749</td>\n",
       "      <td>NaN</td>\n",
       "      <td>NaN</td>\n",
       "      <td>NaN</td>\n",
       "      <td>...</td>\n",
       "      <td>NaN</td>\n",
       "      <td>NaN</td>\n",
       "      <td>NaN</td>\n",
       "      <td>NaN</td>\n",
       "      <td>NaN</td>\n",
       "      <td>440815</td>\n",
       "      <td>784350</td>\n",
       "      <td>NaN</td>\n",
       "      <td>NaN</td>\n",
       "      <td>NaN</td>\n",
       "    </tr>\n",
       "    <tr>\n",
       "      <th>mean</th>\n",
       "      <td>NaN</td>\n",
       "      <td>NaN</td>\n",
       "      <td>NaN</td>\n",
       "      <td>NaN</td>\n",
       "      <td>NaN</td>\n",
       "      <td>NaN</td>\n",
       "      <td>NaN</td>\n",
       "      <td>1.362851</td>\n",
       "      <td>3.223991</td>\n",
       "      <td>13.750071</td>\n",
       "      <td>...</td>\n",
       "      <td>1.026558</td>\n",
       "      <td>0.178508</td>\n",
       "      <td>NaN</td>\n",
       "      <td>0.293844</td>\n",
       "      <td>16.096354</td>\n",
       "      <td>NaN</td>\n",
       "      <td>NaN</td>\n",
       "      <td>NaN</td>\n",
       "      <td>13.732146</td>\n",
       "      <td>13.797346</td>\n",
       "    </tr>\n",
       "    <tr>\n",
       "      <th>std</th>\n",
       "      <td>NaN</td>\n",
       "      <td>NaN</td>\n",
       "      <td>NaN</td>\n",
       "      <td>NaN</td>\n",
       "      <td>NaN</td>\n",
       "      <td>NaN</td>\n",
       "      <td>NaN</td>\n",
       "      <td>1.178643</td>\n",
       "      <td>3.719447</td>\n",
       "      <td>12.487651</td>\n",
       "      <td>...</td>\n",
       "      <td>2.087790</td>\n",
       "      <td>1.053496</td>\n",
       "      <td>NaN</td>\n",
       "      <td>0.047310</td>\n",
       "      <td>13.567878</td>\n",
       "      <td>NaN</td>\n",
       "      <td>NaN</td>\n",
       "      <td>NaN</td>\n",
       "      <td>5.969128</td>\n",
       "      <td>6.042135</td>\n",
       "    </tr>\n",
       "    <tr>\n",
       "      <th>min</th>\n",
       "      <td>NaN</td>\n",
       "      <td>NaN</td>\n",
       "      <td>NaN</td>\n",
       "      <td>NaN</td>\n",
       "      <td>NaN</td>\n",
       "      <td>NaN</td>\n",
       "      <td>NaN</td>\n",
       "      <td>1.000000</td>\n",
       "      <td>0.000000</td>\n",
       "      <td>-235.000000</td>\n",
       "      <td>...</td>\n",
       "      <td>-2.000000</td>\n",
       "      <td>-5.760000</td>\n",
       "      <td>NaN</td>\n",
       "      <td>-0.300000</td>\n",
       "      <td>-235.000000</td>\n",
       "      <td>NaN</td>\n",
       "      <td>NaN</td>\n",
       "      <td>NaN</td>\n",
       "      <td>0.000000</td>\n",
       "      <td>0.000000</td>\n",
       "    </tr>\n",
       "    <tr>\n",
       "      <th>25%</th>\n",
       "      <td>NaN</td>\n",
       "      <td>NaN</td>\n",
       "      <td>NaN</td>\n",
       "      <td>NaN</td>\n",
       "      <td>NaN</td>\n",
       "      <td>NaN</td>\n",
       "      <td>NaN</td>\n",
       "      <td>1.000000</td>\n",
       "      <td>1.070000</td>\n",
       "      <td>6.500000</td>\n",
       "      <td>...</td>\n",
       "      <td>0.000000</td>\n",
       "      <td>0.000000</td>\n",
       "      <td>NaN</td>\n",
       "      <td>0.300000</td>\n",
       "      <td>8.300000</td>\n",
       "      <td>NaN</td>\n",
       "      <td>NaN</td>\n",
       "      <td>NaN</td>\n",
       "      <td>10.000000</td>\n",
       "      <td>10.000000</td>\n",
       "    </tr>\n",
       "    <tr>\n",
       "      <th>50%</th>\n",
       "      <td>NaN</td>\n",
       "      <td>NaN</td>\n",
       "      <td>NaN</td>\n",
       "      <td>NaN</td>\n",
       "      <td>NaN</td>\n",
       "      <td>NaN</td>\n",
       "      <td>NaN</td>\n",
       "      <td>1.000000</td>\n",
       "      <td>1.940000</td>\n",
       "      <td>10.000000</td>\n",
       "      <td>...</td>\n",
       "      <td>0.000000</td>\n",
       "      <td>0.000000</td>\n",
       "      <td>NaN</td>\n",
       "      <td>0.300000</td>\n",
       "      <td>11.800000</td>\n",
       "      <td>NaN</td>\n",
       "      <td>NaN</td>\n",
       "      <td>NaN</td>\n",
       "      <td>15.000000</td>\n",
       "      <td>15.000000</td>\n",
       "    </tr>\n",
       "    <tr>\n",
       "      <th>75%</th>\n",
       "      <td>NaN</td>\n",
       "      <td>NaN</td>\n",
       "      <td>NaN</td>\n",
       "      <td>NaN</td>\n",
       "      <td>NaN</td>\n",
       "      <td>NaN</td>\n",
       "      <td>NaN</td>\n",
       "      <td>1.000000</td>\n",
       "      <td>3.880000</td>\n",
       "      <td>16.500000</td>\n",
       "      <td>...</td>\n",
       "      <td>1.700000</td>\n",
       "      <td>0.000000</td>\n",
       "      <td>NaN</td>\n",
       "      <td>0.300000</td>\n",
       "      <td>19.300000</td>\n",
       "      <td>NaN</td>\n",
       "      <td>NaN</td>\n",
       "      <td>NaN</td>\n",
       "      <td>18.000000</td>\n",
       "      <td>19.000000</td>\n",
       "    </tr>\n",
       "    <tr>\n",
       "      <th>max</th>\n",
       "      <td>NaN</td>\n",
       "      <td>NaN</td>\n",
       "      <td>NaN</td>\n",
       "      <td>NaN</td>\n",
       "      <td>NaN</td>\n",
       "      <td>NaN</td>\n",
       "      <td>NaN</td>\n",
       "      <td>222.000000</td>\n",
       "      <td>621.100000</td>\n",
       "      <td>2703.000000</td>\n",
       "      <td>...</td>\n",
       "      <td>450.000000</td>\n",
       "      <td>70.000000</td>\n",
       "      <td>NaN</td>\n",
       "      <td>0.300000</td>\n",
       "      <td>2704.800000</td>\n",
       "      <td>NaN</td>\n",
       "      <td>NaN</td>\n",
       "      <td>NaN</td>\n",
       "      <td>23.000000</td>\n",
       "      <td>23.000000</td>\n",
       "    </tr>\n",
       "  </tbody>\n",
       "</table>\n",
       "<p>11 rows × 22 columns</p>\n",
       "</div>"
      ],
      "text/plain": [
       "               Vendor lpep pickup datetime lpep dropoff datetime  \\\n",
       "count          796565               796565                796565   \n",
       "unique              2               664605                663849   \n",
       "top     VeriFone Inc.  2018-05-24 17:38:41   2018-05-05 00:00:00   \n",
       "freq           663976                    7                    44   \n",
       "mean              NaN                  NaN                   NaN   \n",
       "std               NaN                  NaN                   NaN   \n",
       "min               NaN                  NaN                   NaN   \n",
       "25%               NaN                  NaN                   NaN   \n",
       "50%               NaN                  NaN                   NaN   \n",
       "75%               NaN                  NaN                   NaN   \n",
       "max               NaN                  NaN                   NaN   \n",
       "\n",
       "       store and fwd flag      Rate type                  PU Location  \\\n",
       "count              796565         796565                       796565   \n",
       "unique                  2              6                          241   \n",
       "top                     N  Standard rate  Manhattan,East Harlem North   \n",
       "freq               795348         782205                        49432   \n",
       "mean                  NaN            NaN                          NaN   \n",
       "std                   NaN            NaN                          NaN   \n",
       "min                   NaN            NaN                          NaN   \n",
       "25%                   NaN            NaN                          NaN   \n",
       "50%                   NaN            NaN                          NaN   \n",
       "75%                   NaN            NaN                          NaN   \n",
       "max                   NaN            NaN                          NaN   \n",
       "\n",
       "                        DO Location  passenger count  trip distance  \\\n",
       "count                        796565    794848.000000  796565.000000   \n",
       "unique                          258              NaN            NaN   \n",
       "top     Manhattan,East Harlem North              NaN            NaN   \n",
       "freq                          26749              NaN            NaN   \n",
       "mean                            NaN         1.362851       3.223991   \n",
       "std                             NaN         1.178643       3.719447   \n",
       "min                             NaN         1.000000       0.000000   \n",
       "25%                             NaN         1.000000       1.070000   \n",
       "50%                             NaN         1.000000       1.940000   \n",
       "75%                             NaN         1.000000       3.880000   \n",
       "max                             NaN       222.000000     621.100000   \n",
       "\n",
       "          fare amount  ...     tip amount   tolls amount  ehail fee  \\\n",
       "count   796565.000000  ...  796565.000000  796565.000000        0.0   \n",
       "unique            NaN  ...            NaN            NaN        NaN   \n",
       "top               NaN  ...            NaN            NaN        NaN   \n",
       "freq              NaN  ...            NaN            NaN        NaN   \n",
       "mean        13.750071  ...       1.026558       0.178508        NaN   \n",
       "std         12.487651  ...       2.087790       1.053496        NaN   \n",
       "min       -235.000000  ...      -2.000000      -5.760000        NaN   \n",
       "25%          6.500000  ...       0.000000       0.000000        NaN   \n",
       "50%         10.000000  ...       0.000000       0.000000        NaN   \n",
       "75%         16.500000  ...       1.700000       0.000000        NaN   \n",
       "max       2703.000000  ...     450.000000      70.000000        NaN   \n",
       "\n",
       "        improvement surcharge   total amount  payment type    trip type  \\\n",
       "count           796565.000000  796565.000000        774722       796565   \n",
       "unique                    NaN            NaN             5            2   \n",
       "top                       NaN            NaN   Credit card  Street-hail   \n",
       "freq                      NaN            NaN        440815       784350   \n",
       "mean                 0.293844      16.096354           NaN          NaN   \n",
       "std                  0.047310      13.567878           NaN          NaN   \n",
       "min                 -0.300000    -235.000000           NaN          NaN   \n",
       "25%                  0.300000       8.300000           NaN          NaN   \n",
       "50%                  0.300000      11.800000           NaN          NaN   \n",
       "75%                  0.300000      19.300000           NaN          NaN   \n",
       "max                  0.300000    2704.800000           NaN          NaN   \n",
       "\n",
       "       congestion surcharge   pick up hour  drop off hour  \n",
       "count                   0.0  796565.000000  796565.000000  \n",
       "unique                  NaN            NaN            NaN  \n",
       "top                     NaN            NaN            NaN  \n",
       "freq                    NaN            NaN            NaN  \n",
       "mean                    NaN      13.732146      13.797346  \n",
       "std                     NaN       5.969128       6.042135  \n",
       "min                     NaN       0.000000       0.000000  \n",
       "25%                     NaN      10.000000      10.000000  \n",
       "50%                     NaN      15.000000      15.000000  \n",
       "75%                     NaN      18.000000      19.000000  \n",
       "max                     NaN      23.000000      23.000000  \n",
       "\n",
       "[11 rows x 22 columns]"
      ]
     },
     "execution_count": 54,
     "metadata": {},
     "output_type": "execute_result"
    }
   ],
   "source": [
    "green_taxi_df_clean.describe(include='all')\n"
   ]
  },
  {
   "cell_type": "code",
   "execution_count": 55,
   "metadata": {},
   "outputs": [
    {
     "data": {
      "image/png": "[encoded data removed]",
      "text/plain": [
       "<Figure size 1200x900 with 2 Axes>"
      ]
     },
     "metadata": {},
     "output_type": "display_data"
    }
   ],
   "source": [
    "#plot correlation matrix in blue\n",
    "corrmat = green_taxi_df_clean.corr(numeric_only=True)\n",
    "f, ax = plt.subplots(figsize=(12, 9))\n",
    "sns.heatmap(corrmat, vmax=.8, square=True, cmap=\"Blues\");\n",
    "plt.show()\n"
   ]
  },
  {
   "cell_type": "markdown",
   "metadata": {},
   "source": [
    "# questions"
   ]
  },
  {
   "cell_type": "markdown",
   "metadata": {},
   "source": [
    "1- what is the rush hour or peak time for green taxis?(pick up  and drop off hour added earlier)\n",
    "2-More trips on weekdays or weekends?\n",
    "3-what's the most expensive city?\n",
    "4-more trips within the same zone or different zones in city?what about trips between cities?\n",
    "5-is the rush hour affected by weekend vs weekday?\n",
    "6- which city uses green taxis the most?"
   ]
  },
  {
   "cell_type": "code",
   "execution_count": 56,
   "metadata": {},
   "outputs": [
    {
     "data": {
      "text/plain": [
       "<Axes: xlabel='pick up hour'>"
      ]
     },
     "execution_count": 56,
     "metadata": {},
     "output_type": "execute_result"
    },
    {
     "data": {
      "image/png": "[encoded data removed]",
      "text/plain": [
       "<Figure size 640x480 with 1 Axes>"
      ]
     },
     "metadata": {},
     "output_type": "display_data"
    }
   ],
   "source": [
    "green_taxi_df_clean[\"pick up hour\"].value_counts().head(10).plot.bar()"
   ]
  },
  {
   "cell_type": "code",
   "execution_count": 57,
   "metadata": {},
   "outputs": [],
   "source": [
    "green_taxi_df_clean[\"weekday\"] = pd.to_datetime(green_taxi_df[\"lpep pickup datetime\"]).dt.weekday"
   ]
  },
  {
   "cell_type": "markdown",
   "metadata": {},
   "source": [
    "2- which vendor is more expensive?"
   ]
  },
  {
   "cell_type": "code",
   "execution_count": 58,
   "metadata": {},
   "outputs": [
    {
     "data": {
      "text/plain": [
       "Vendor\n",
       "Creative Mobile Technologies, LLC    14.904597\n",
       "VeriFone Inc.                        16.334335\n",
       "Name: total amount, dtype: float64"
      ]
     },
     "execution_count": 58,
     "metadata": {},
     "output_type": "execute_result"
    }
   ],
   "source": [
    "#which vendor is more expensive\n",
    "green_taxi_df_clean.groupby(\"Vendor\")[\"total amount\"].mean()"
   ]
  },
  {
   "cell_type": "code",
   "execution_count": 59,
   "metadata": {},
   "outputs": [
    {
     "data": {
      "text/plain": [
       "Rate type\n",
       "Standard rate            782205\n",
       "Negotiated fare           11564\n",
       "JFK                        1748\n",
       "Nassau or Westchester       619\n",
       "Newark                      418\n",
       "Group ride                   11\n",
       "Name: count, dtype: int64"
      ]
     },
     "execution_count": 59,
     "metadata": {},
     "output_type": "execute_result"
    }
   ],
   "source": [
    "green_taxi_df_clean[\"Rate type\"].value_counts()"
   ]
  },
  {
   "cell_type": "code",
   "execution_count": 60,
   "metadata": {},
   "outputs": [],
   "source": [
    "#separate the PU Location and DO Location to boroughs and zones\n",
    "green_taxi_df_clean[\"PU Location Borough\"] =green_taxi_df_clean[\"PU Location\"].str.split(',').str[0]\n",
    "green_taxi_df_clean[\"PU Location Zone\"] =green_taxi_df_clean[\"PU Location\"].str.split(',').str[1]\n",
    "green_taxi_df_clean[\"DO Location Borough\"] =green_taxi_df_clean[\"DO Location\"].str.split(',').str[0]\n",
    "green_taxi_df_clean[\"DO Location Zone\"] =green_taxi_df_clean[\"DO Location\"].str.split(',').str[1]\n",
    "\n",
    "\n",
    "\n"
   ]
  },
  {
   "cell_type": "code",
   "execution_count": 61,
   "metadata": {},
   "outputs": [
    {
     "data": {
      "text/plain": [
       "PU Location Borough\n",
       "Manhattan        254926\n",
       "Brooklyn         253719\n",
       "Queens           238212\n",
       "Bronx             48382\n",
       "Unknown            1184\n",
       "Staten Island       131\n",
       "EWR                  11\n",
       "Name: count, dtype: int64"
      ]
     },
     "execution_count": 61,
     "metadata": {},
     "output_type": "execute_result"
    }
   ],
   "source": [
    "green_taxi_df_clean[\"PU Location Borough\"].value_counts()"
   ]
  },
  {
   "cell_type": "code",
   "execution_count": 62,
   "metadata": {},
   "outputs": [
    {
     "data": {
      "text/plain": [
       "PU Location Zone\n",
       "East Harlem North               49432\n",
       "East Harlem South               45133\n",
       "Central Harlem                  42989\n",
       "Astoria                         36717\n",
       "Elmhurst                        34014\n",
       "                                ...  \n",
       "Penn Station/Madison Sq West        1\n",
       "Charleston/Tottenville              1\n",
       "East Chelsea                        1\n",
       "Port Richmond                       1\n",
       "Chinatown                           1\n",
       "Name: count, Length: 241, dtype: int64"
      ]
     },
     "execution_count": 62,
     "metadata": {},
     "output_type": "execute_result"
    }
   ],
   "source": [
    "green_taxi_df_clean[\"PU Location Zone\"].value_counts()"
   ]
  },
  {
   "cell_type": "code",
   "execution_count": 63,
   "metadata": {},
   "outputs": [
    {
     "data": {
      "text/plain": [
       "PU Location Borough\n",
       "Bronx            21.091996\n",
       "Brooklyn         18.044120\n",
       "EWR              78.172727\n",
       "Manhattan        14.090866\n",
       "Queens           15.133124\n",
       "Staten Island    45.062901\n",
       "Unknown          16.384932\n",
       "Name: total amount, dtype: float64"
      ]
     },
     "execution_count": 63,
     "metadata": {},
     "output_type": "execute_result"
    }
   ],
   "source": [
    "green_taxi_df_clean.groupby(\"PU Location Borough\")[\"total amount\"].mean()"
   ]
  },
  {
   "cell_type": "markdown",
   "metadata": {},
   "source": [
    "# 3 - Cleaning Data"
   ]
  },
  {
   "cell_type": "markdown",
   "metadata": {},
   "source": [
    "## Tidying up column names"
   ]
  },
  {
   "cell_type": "code",
   "execution_count": 64,
   "metadata": {},
   "outputs": [],
   "source": [
    "def rename_columns(df):\n",
    "#     make all cols lower case\n",
    "    df.columns = df.columns.str.lower()\n",
    "\n",
    "    df.columns = [col.replace(' ', '_') for col in df.columns]\n",
    "    \n"
   ]
  },
  {
   "cell_type": "code",
   "execution_count": 65,
   "metadata": {},
   "outputs": [
    {
     "data": {
      "text/plain": [
       "Index(['vendor', 'lpep_pickup_datetime', 'lpep_dropoff_datetime',\n",
       "       'store_and_fwd_flag', 'rate_type', 'pu_location', 'do_location',\n",
       "       'passenger_count', 'trip_distance', 'fare_amount', 'extra', 'mta_tax',\n",
       "       'tip_amount', 'tolls_amount', 'ehail_fee', 'improvement_surcharge',\n",
       "       'total_amount', 'payment_type', 'trip_type', 'congestion_surcharge',\n",
       "       'pick_up_hour', 'drop_off_hour', 'weekday', 'pu_location_borough',\n",
       "       'pu_location_zone', 'do_location_borough', 'do_location_zone'],\n",
       "      dtype='object')"
      ]
     },
     "execution_count": 65,
     "metadata": {},
     "output_type": "execute_result"
    }
   ],
   "source": [
    "rename_columns(green_taxi_df_clean)\n",
    "green_taxi_df_clean.columns"
   ]
  },
  {
   "cell_type": "markdown",
   "metadata": {},
   "source": [
    "# Observe inconsistent data"
   ]
  },
  {
   "cell_type": "markdown",
   "metadata": {},
   "source": [
    "### duplicate data"
   ]
  },
  {
   "cell_type": "code",
   "execution_count": 66,
   "metadata": {},
   "outputs": [
    {
     "data": {
      "text/plain": [
       "7"
      ]
     },
     "execution_count": 66,
     "metadata": {},
     "output_type": "execute_result"
    }
   ],
   "source": [
    "green_taxi_df_clean.duplicated().sum()"
   ]
  },
  {
   "cell_type": "code",
   "execution_count": 67,
   "metadata": {},
   "outputs": [
    {
     "data": {
      "text/plain": [
       "1997"
      ]
     },
     "execution_count": 67,
     "metadata": {},
     "output_type": "execute_result"
    }
   ],
   "source": [
    "green_taxi_df_clean.duplicated(subset=['lpep_pickup_datetime', 'lpep_dropoff_datetime','pu_location', 'do_location','trip_distance']).sum()"
   ]
  },
  {
   "cell_type": "code",
   "execution_count": 68,
   "metadata": {},
   "outputs": [
    {
     "data": {
      "text/plain": [
       "7"
      ]
     },
     "execution_count": 68,
     "metadata": {},
     "output_type": "execute_result"
    }
   ],
   "source": [
    "green_taxi_df_clean.duplicated(subset=['lpep_pickup_datetime', 'lpep_dropoff_datetime','pu_location', 'do_location','trip_distance','fare_amount']).sum()"
   ]
  },
  {
   "cell_type": "code",
   "execution_count": 69,
   "metadata": {},
   "outputs": [],
   "source": [
    "green_taxi_df_clean = green_taxi_df_clean.drop_duplicates(subset=['lpep_pickup_datetime', 'lpep_dropoff_datetime','pu_location', 'do_location','trip_distance'], keep='last')"
   ]
  },
  {
   "cell_type": "code",
   "execution_count": 70,
   "metadata": {},
   "outputs": [
    {
     "data": {
      "text/plain": [
       "0"
      ]
     },
     "execution_count": 70,
     "metadata": {},
     "output_type": "execute_result"
    }
   ],
   "source": [
    "green_taxi_df_clean.duplicated().sum()"
   ]
  },
  {
   "cell_type": "markdown",
   "metadata": {},
   "source": [
    "### Findings and conclusions"
   ]
  },
  {
   "cell_type": "markdown",
   "metadata": {},
   "source": [
    "there were 7 duplicate rows in the dataset when checking for duplicates in the entire row.\n",
    "after using a subset that has the pick and dropoff time and location and distance(to make sure its the exact same trip) we found 1997 trips that were most likely double entries due to some change in one of the features.we investigated further and found that the only difference that was consistent between between the double entries (repeated in all entries) was the fare amount.there were other features that changes across the duplicates like improvement surcharge and other money related features but they're irrelevant as the fare amount covers all 1997 duplicates. we decided to keep the second entry as it's the updated value.\n",
    "final result is 1997 rows dropped,including identical rows and rows with the same pick up and drop off location and time and distance but different fare amount.\n"
   ]
  },
  {
   "cell_type": "markdown",
   "metadata": {},
   "source": [
    "### irrelevant data"
   ]
  },
  {
   "cell_type": "code",
   "execution_count": 71,
   "metadata": {},
   "outputs": [
    {
     "data": {
      "text/plain": [
       "(15, 27)"
      ]
     },
     "execution_count": 71,
     "metadata": {},
     "output_type": "execute_result"
    }
   ],
   "source": [
    "green_taxi_df_clean[pd.to_datetime(green_taxi_df_clean['lpep_pickup_datetime']).dt.year != 2018].shape\n"
   ]
  },
  {
   "cell_type": "code",
   "execution_count": 72,
   "metadata": {},
   "outputs": [],
   "source": [
    "#keep only trips that happen in 2018\n",
    "green_taxi_df_clean['lpep_pickup_datetime'] = pd.to_datetime(green_taxi_df_clean['lpep_pickup_datetime'])\n",
    "green_taxi_df_clean['lpep_dropoff_datetime'] = pd.to_datetime(green_taxi_df_clean['lpep_dropoff_datetime'])\n",
    "\n",
    "green_taxi_df_clean = green_taxi_df_clean[(green_taxi_df_clean['lpep_pickup_datetime'].dt.year == 2018) & (green_taxi_df_clean['lpep_dropoff_datetime'].dt.year == 2018)]\n"
   ]
  },
  {
   "cell_type": "code",
   "execution_count": 73,
   "metadata": {},
   "outputs": [
    {
     "data": {
      "text/plain": [
       "(72, 27)"
      ]
     },
     "execution_count": 73,
     "metadata": {},
     "output_type": "execute_result"
    }
   ],
   "source": [
    "green_taxi_df_clean[green_taxi_df_clean['lpep_pickup_datetime'].dt.month != 5].shape"
   ]
  },
  {
   "cell_type": "code",
   "execution_count": 74,
   "metadata": {},
   "outputs": [],
   "source": [
    "#keep only trips that happen in may\n",
    "green_taxi_df_clean = green_taxi_df_clean[(green_taxi_df_clean['lpep_pickup_datetime'].dt.month == 5)]"
   ]
  },
  {
   "cell_type": "code",
   "execution_count": 77,
   "metadata": {},
   "outputs": [
    {
     "data": {
      "text/plain": [
       "(308, 27)"
      ]
     },
     "execution_count": 77,
     "metadata": {},
     "output_type": "execute_result"
    }
   ],
   "source": [
    "green_taxi_df_clean[(green_taxi_df_clean.extra == 4.5)].shape"
   ]
  },
  {
   "cell_type": "code",
   "execution_count": 85,
   "metadata": {},
   "outputs": [],
   "source": [
    "#what defines a trip? here we remove any \"trip\" that has no distance, no fare, or no time or negative time\n",
    "green_taxi_df_clean = green_taxi_df_clean[green_taxi_df_clean.fare_amount > 0]\n",
    "green_taxi_df_clean =green_taxi_df_clean[green_taxi_df_clean.trip_distance > 0]\n",
    "green_taxi_df_clean = green_taxi_df_clean[green_taxi_df_clean.lpep_pickup_datetime < green_taxi_df_clean.lpep_dropoff_datetime]\n"
   ]
  },
  {
   "cell_type": "code",
   "execution_count": 95,
   "metadata": {},
   "outputs": [
    {
     "data": {
      "text/plain": [
       "0"
      ]
     },
     "execution_count": 95,
     "metadata": {},
     "output_type": "execute_result"
    }
   ],
   "source": [
    "irrelevant = 0\n",
    "irrelevant+= green_taxi_df_clean[(green_taxi_df_clean.fare_amount <=0)].shape[0]\n",
    "irrelevant+= green_taxi_df_clean[(green_taxi_df_clean.trip_distance <=0)].shape[0]\n",
    "irrelevant+= green_taxi_df_clean[(green_taxi_df_clean.lpep_pickup_datetime >= green_taxi_df_clean.lpep_dropoff_datetime)].shape[0]\n",
    "irrelevant"
   ]
  },
  {
   "cell_type": "code",
   "execution_count": 98,
   "metadata": {},
   "outputs": [
    {
     "name": "stdout",
     "output_type": "stream",
     "text": [
      "<class 'pandas.core.frame.DataFrame'>\n",
      "Index: 783927 entries, 0 to 796564\n",
      "Data columns (total 27 columns):\n",
      " #   Column                 Non-Null Count   Dtype         \n",
      "---  ------                 --------------   -----         \n",
      " 0   vendor                 783927 non-null  object        \n",
      " 1   lpep_pickup_datetime   783927 non-null  datetime64[ns]\n",
      " 2   lpep_dropoff_datetime  783927 non-null  datetime64[ns]\n",
      " 3   store_and_fwd_flag     783927 non-null  object        \n",
      " 4   rate_type              783927 non-null  object        \n",
      " 5   pu_location            783927 non-null  object        \n",
      " 6   do_location            783927 non-null  object        \n",
      " 7   passenger_count        782286 non-null  float64       \n",
      " 8   trip_distance          783927 non-null  float64       \n",
      " 9   fare_amount            783927 non-null  float64       \n",
      " 10  extra                  368339 non-null  float64       \n",
      " 11  mta_tax                783927 non-null  float64       \n",
      " 12  tip_amount             783927 non-null  float64       \n",
      " 13  tolls_amount           783927 non-null  float64       \n",
      " 14  ehail_fee              0 non-null       float64       \n",
      " 15  improvement_surcharge  783927 non-null  float64       \n",
      " 16  total_amount           783927 non-null  float64       \n",
      " 17  payment_type           762489 non-null  object        \n",
      " 18  trip_type              783927 non-null  object        \n",
      " 19  congestion_surcharge   0 non-null       float64       \n",
      " 20  pick_up_hour           783927 non-null  int32         \n",
      " 21  drop_off_hour          783927 non-null  int32         \n",
      " 22  weekday                783927 non-null  int32         \n",
      " 23  pu_location_borough    783927 non-null  object        \n",
      " 24  pu_location_zone       783927 non-null  object        \n",
      " 25  do_location_borough    783927 non-null  object        \n",
      " 26  do_location_zone       783927 non-null  object        \n",
      "dtypes: datetime64[ns](2), float64(11), int32(3), object(11)\n",
      "memory usage: 158.5+ MB\n"
     ]
    }
   ],
   "source": [
    "green_taxi_df_clean."
   ]
  },
  {
   "cell_type": "markdown",
   "metadata": {},
   "source": [
    "### Findings and conclusions\n",
    "\n",
    "some trips happened out of 2018 and some out of may,2018(we're only interested in may 2018).we dropped those rows.(irrelevant data)\n",
    "\n",
    "some trips had negative or zero distance or fare amount.we dropped those rows.(irrelevant data or incorrect data respectively)\n",
    "\n",
    "some trips had negative or 0 time difference between pick up and drop off.we dropped those rows.(irrelevant data or incorrect data respectively)\n",
    "\n"
   ]
  },
  {
   "cell_type": "markdown",
   "metadata": {},
   "source": [
    "## Observing Missing Data"
   ]
  },
  {
   "cell_type": "code",
   "execution_count": null,
   "metadata": {},
   "outputs": [],
   "source": []
  },
  {
   "cell_type": "code",
   "execution_count": null,
   "metadata": {},
   "outputs": [],
   "source": []
  },
  {
   "cell_type": "code",
   "execution_count": null,
   "metadata": {},
   "outputs": [],
   "source": []
  },
  {
   "cell_type": "markdown",
   "metadata": {},
   "source": [
    "## Handling Missing data"
   ]
  },
  {
   "cell_type": "code",
   "execution_count": null,
   "metadata": {},
   "outputs": [],
   "source": []
  },
  {
   "cell_type": "code",
   "execution_count": null,
   "metadata": {},
   "outputs": [],
   "source": []
  },
  {
   "cell_type": "code",
   "execution_count": null,
   "metadata": {},
   "outputs": [],
   "source": []
  },
  {
   "cell_type": "markdown",
   "metadata": {},
   "source": [
    "## Findings and conclusions"
   ]
  },
  {
   "cell_type": "code",
   "execution_count": null,
   "metadata": {},
   "outputs": [],
   "source": []
  },
  {
   "cell_type": "code",
   "execution_count": null,
   "metadata": {},
   "outputs": [],
   "source": []
  },
  {
   "cell_type": "markdown",
   "metadata": {},
   "source": [
    "## Observing outliers"
   ]
  },
  {
   "cell_type": "code",
   "execution_count": null,
   "metadata": {},
   "outputs": [],
   "source": []
  },
  {
   "cell_type": "code",
   "execution_count": null,
   "metadata": {},
   "outputs": [],
   "source": []
  },
  {
   "cell_type": "code",
   "execution_count": null,
   "metadata": {},
   "outputs": [],
   "source": []
  },
  {
   "cell_type": "markdown",
   "metadata": {},
   "source": [
    "## Handling outliers"
   ]
  },
  {
   "cell_type": "code",
   "execution_count": null,
   "metadata": {},
   "outputs": [],
   "source": []
  },
  {
   "cell_type": "code",
   "execution_count": null,
   "metadata": {},
   "outputs": [],
   "source": []
  },
  {
   "cell_type": "code",
   "execution_count": null,
   "metadata": {},
   "outputs": [],
   "source": []
  },
  {
   "cell_type": "markdown",
   "metadata": {},
   "source": [
    "## Findings and conclusions"
   ]
  },
  {
   "cell_type": "code",
   "execution_count": null,
   "metadata": {},
   "outputs": [],
   "source": []
  },
  {
   "cell_type": "code",
   "execution_count": null,
   "metadata": {},
   "outputs": [],
   "source": []
  },
  {
   "cell_type": "code",
   "execution_count": null,
   "metadata": {},
   "outputs": [],
   "source": []
  },
  {
   "cell_type": "markdown",
   "metadata": {},
   "source": [
    "# 4 - Data transformation and feature eng."
   ]
  },
  {
   "cell_type": "markdown",
   "metadata": {},
   "source": [
    "## 4.1 - Discretization"
   ]
  },
  {
   "cell_type": "code",
   "execution_count": null,
   "metadata": {},
   "outputs": [],
   "source": []
  },
  {
   "cell_type": "code",
   "execution_count": null,
   "metadata": {},
   "outputs": [],
   "source": []
  },
  {
   "cell_type": "code",
   "execution_count": null,
   "metadata": {},
   "outputs": [],
   "source": []
  },
  {
   "cell_type": "markdown",
   "metadata": {},
   "source": [
    "## 4.11 - Findings and conclusions"
   ]
  },
  {
   "cell_type": "code",
   "execution_count": null,
   "metadata": {},
   "outputs": [],
   "source": []
  },
  {
   "cell_type": "code",
   "execution_count": null,
   "metadata": {},
   "outputs": [],
   "source": []
  },
  {
   "cell_type": "code",
   "execution_count": null,
   "metadata": {},
   "outputs": [],
   "source": []
  },
  {
   "cell_type": "markdown",
   "metadata": {},
   "source": [
    "## 4.2 - Encoding"
   ]
  },
  {
   "cell_type": "code",
   "execution_count": null,
   "metadata": {},
   "outputs": [],
   "source": []
  },
  {
   "cell_type": "code",
   "execution_count": null,
   "metadata": {},
   "outputs": [],
   "source": []
  },
  {
   "cell_type": "code",
   "execution_count": null,
   "metadata": {},
   "outputs": [],
   "source": []
  },
  {
   "cell_type": "markdown",
   "metadata": {},
   "source": [
    "## 4.22 - Findings and conlcusions"
   ]
  },
  {
   "cell_type": "code",
   "execution_count": null,
   "metadata": {},
   "outputs": [],
   "source": []
  },
  {
   "cell_type": "code",
   "execution_count": null,
   "metadata": {},
   "outputs": [],
   "source": []
  },
  {
   "cell_type": "code",
   "execution_count": null,
   "metadata": {},
   "outputs": [],
   "source": []
  },
  {
   "cell_type": "markdown",
   "metadata": {},
   "source": [
    "## 4.3 - Normalisation "
   ]
  },
  {
   "cell_type": "code",
   "execution_count": null,
   "metadata": {},
   "outputs": [],
   "source": []
  },
  {
   "cell_type": "code",
   "execution_count": null,
   "metadata": {},
   "outputs": [],
   "source": []
  },
  {
   "cell_type": "code",
   "execution_count": null,
   "metadata": {},
   "outputs": [],
   "source": []
  },
  {
   "cell_type": "markdown",
   "metadata": {},
   "source": [
    "## 4.31 - Findings and conclusions"
   ]
  },
  {
   "cell_type": "code",
   "execution_count": null,
   "metadata": {},
   "outputs": [],
   "source": []
  },
  {
   "cell_type": "code",
   "execution_count": null,
   "metadata": {},
   "outputs": [],
   "source": []
  },
  {
   "cell_type": "code",
   "execution_count": null,
   "metadata": {},
   "outputs": [],
   "source": []
  },
  {
   "cell_type": "markdown",
   "metadata": {},
   "source": [
    "## 4.4 - Adding more features(feature eng.)"
   ]
  },
  {
   "cell_type": "code",
   "execution_count": null,
   "metadata": {},
   "outputs": [],
   "source": []
  },
  {
   "cell_type": "code",
   "execution_count": null,
   "metadata": {},
   "outputs": [],
   "source": []
  },
  {
   "cell_type": "code",
   "execution_count": null,
   "metadata": {},
   "outputs": [],
   "source": []
  },
  {
   "cell_type": "markdown",
   "metadata": {},
   "source": [
    "## 4.41 - Findings and concluisons"
   ]
  },
  {
   "cell_type": "code",
   "execution_count": null,
   "metadata": {},
   "outputs": [],
   "source": []
  },
  {
   "cell_type": "code",
   "execution_count": null,
   "metadata": {},
   "outputs": [],
   "source": []
  },
  {
   "cell_type": "markdown",
   "metadata": {},
   "source": [
    "## 4.5 - Additional data extraction (GPS coordinates)"
   ]
  },
  {
   "cell_type": "code",
   "execution_count": null,
   "metadata": {},
   "outputs": [],
   "source": []
  },
  {
   "cell_type": "code",
   "execution_count": null,
   "metadata": {},
   "outputs": [],
   "source": []
  },
  {
   "cell_type": "markdown",
   "metadata": {},
   "source": [
    "## 4.6 - Csv file for lookup"
   ]
  },
  {
   "cell_type": "code",
   "execution_count": null,
   "metadata": {},
   "outputs": [],
   "source": []
  },
  {
   "cell_type": "code",
   "execution_count": null,
   "metadata": {},
   "outputs": [],
   "source": []
  },
  {
   "cell_type": "code",
   "execution_count": null,
   "metadata": {},
   "outputs": [],
   "source": []
  },
  {
   "cell_type": "markdown",
   "metadata": {},
   "source": [
    "## 5- Exporting the dataframe to a csv file or parquet"
   ]
  },
  {
   "cell_type": "code",
   "execution_count": null,
   "metadata": {},
   "outputs": [],
   "source": []
  },
  {
   "cell_type": "code",
   "execution_count": null,
   "metadata": {},
   "outputs": [],
   "source": []
  }
 ],
 "metadata": {
  "kernelspec": {
   "display_name": "Python 3 (ipykernel)",
   "language": "python",
   "name": "python3"
  },
  "language_info": {
   "codemirror_mode": {
    "name": "ipython",
    "version": 3
   },
   "file_extension": ".py",
   "mimetype": "text/x-python",
   "name": "python",
   "nbconvert_exporter": "python",
   "pygments_lexer": "ipython3",
   "version": "3.11.5"
  }
 },
 "nbformat": 4,
 "nbformat_minor": 4
}
